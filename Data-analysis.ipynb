{
 "cells": [
  {
   "cell_type": "code",
   "execution_count": 1,
   "metadata": {},
   "outputs": [],
   "source": [
    "import pandas as pd\n",
    "import matplotlib as mpl"
   ]
  },
  {
   "cell_type": "code",
   "execution_count": 4,
   "metadata": {},
   "outputs": [
    {
     "name": "stdout",
     "output_type": "stream",
     "text": [
      "<bound method NDFrame.head of    Post link          City   Neighborhood  Size  Number of rooms  \\\n",
      "0   ru8q1kyv        סביניה      מרכז העיר   105                4   \n",
      "1   lc0eawvk         אשדוד        רובע ב'    68                3   \n",
      "2   k5vqkej7          חיפה       הדר מרכז    45                1   \n",
      "3   c4jltnfv   תל אביב יפו   נאות אפקה ב'    90                3   \n",
      "4   t37185rk        רחובות   חצרות המושבה   108                4   \n",
      "..       ...           ...            ...   ...              ...   \n",
      "56    684958  יהוד מונוסון           מכבי    65                3   \n",
      "57    684957          חיפה      נווה שאנן     1               35   \n",
      "58    684956  יהוד מונוסון           מכבי    65                3   \n",
      "59    684954    קרית טבעון          ותיקה   150               55   \n",
      "60    684953     פתח תקווה     מחנה יהודה    90               35   \n",
      "\n",
      "    Floor number   Taxes  Price  Room mates  Furniture  Elevator  \\\n",
      "0              2  1000.0   4000           1          1         1   \n",
      "1              3   450.0   3300           1          1         1   \n",
      "2              4     1.0   2000           1          1         1   \n",
      "3              1     NaN   6700           1          1         1   \n",
      "4             17     NaN   6400           1          1         1   \n",
      "..           ...     ...    ...         ...        ...       ...   \n",
      "56             4   520.0   3800           1          1         0   \n",
      "57             1     0.0   3000           1          1         0   \n",
      "58             0   520.0   3800           1          1         0   \n",
      "59             0  1700.0   7500           0          1         0   \n",
      "60             3   890.0   5500           0          1         1   \n",
      "\n",
      "    Air conditioner  Parking  Balcony  Bars  Shelter  Storeroom  Renovated  \\\n",
      "0                 1        1      0.0     1        1          1          1   \n",
      "1                 1        0      0.0     1        1          1          1   \n",
      "2                 1        0      0.0     1        1          1          1   \n",
      "3                 1        1      1.0     1        1          1          1   \n",
      "4                 1        1      0.0     1        1          1          1   \n",
      "..              ...      ...      ...   ...      ...        ...        ...   \n",
      "56                1        1      0.0     0        0          0          0   \n",
      "57                1        1      1.0     1        0          0          1   \n",
      "58                1        1      0.0     0        0          0          0   \n",
      "59                1        1      1.0     0        0          0          0   \n",
      "60                1        1      1.0     0        1          0          1   \n",
      "\n",
      "    Boiler  Pets allowed  \n",
      "0        1             1  \n",
      "1        1             1  \n",
      "2        1             1  \n",
      "3        1             1  \n",
      "4        1             1  \n",
      "..     ...           ...  \n",
      "56       1             1  \n",
      "57       1             0  \n",
      "58       1             1  \n",
      "59       1             0  \n",
      "60       1             0  \n",
      "\n",
      "[61 rows x 20 columns]>\n"
     ]
    }
   ],
   "source": [
    "def read_csv(file_name):\n",
    "    return pd.read_csv(file_name)\n",
    "\n",
    "yad2_df = read_csv('raw_yad2_data_test.csv')\n",
    "homeless_df = read_csv('raw_homeless_data_test.csv')\n",
    "\n",
    "df = pd.concat([yad2_df, homeless_df], ignore_index=True, sort=False)\n",
    "\n",
    "print(df.head)\n"
   ]
  },
  {
   "cell_type": "code",
   "execution_count": null,
   "metadata": {},
   "outputs": [],
   "source": []
  }
 ],
 "metadata": {
  "interpreter": {
   "hash": "149d9d322101756c08e60260c844c5b0db4b92efb3fff858aa7e90c82cd2b80a"
  },
  "kernelspec": {
   "display_name": "Python 3.9.1 64-bit",
   "language": "python",
   "name": "python3"
  },
  "language_info": {
   "codemirror_mode": {
    "name": "ipython",
    "version": 3
   },
   "file_extension": ".py",
   "mimetype": "text/x-python",
   "name": "python",
   "nbconvert_exporter": "python",
   "pygments_lexer": "ipython3",
   "version": "3.9.1"
  },
  "orig_nbformat": 4
 },
 "nbformat": 4,
 "nbformat_minor": 2
}
