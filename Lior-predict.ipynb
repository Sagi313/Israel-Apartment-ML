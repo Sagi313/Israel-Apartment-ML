{
 "cells": [
  {
   "cell_type": "code",
   "execution_count": 1,
   "metadata": {},
   "outputs": [],
   "source": [
    "import pandas as pd\n",
    "import matplotlib as mpl\n",
    "import numpy as np\n",
    "\n",
    "import os\n",
    "import sklearn\n",
    "from sklearn import preprocessing, linear_model, model_selection\n",
    "from sklearn.preprocessing import StandardScaler, MinMaxScaler\n",
    "from sklearn.linear_model import LinearRegression\n",
    "from sklearn.model_selection import train_test_split"
   ]
  },
  {
   "cell_type": "code",
   "execution_count": 2,
   "metadata": {},
   "outputs": [],
   "source": [
    "def read_csv(file_name):\n",
    "    return pd.read_csv(file_name)"
   ]
  },
  {
   "cell_type": "markdown",
   "metadata": {},
   "source": [
    "# Data Cleaning\n",
    "\n",
    "## Yad2.co.il Data\n",
    "Inorder to acquire larger amount of data, we used 2 data source. In this section we will only handle the Yad2.co.il data, which we scrapped using our selenium crawler.\n",
    "We will first load the CSV file into a Data Frame and take a quick look at it."
   ]
  },
  {
   "cell_type": "code",
   "execution_count": 3,
   "metadata": {
    "pycharm": {
     "name": "#%%\n"
    }
   },
   "outputs": [
    {
     "data": {
      "text/html": [
       "<div>\n",
       "<style scoped>\n",
       "    .dataframe tbody tr th:only-of-type {\n",
       "        vertical-align: middle;\n",
       "    }\n",
       "\n",
       "    .dataframe tbody tr th {\n",
       "        vertical-align: top;\n",
       "    }\n",
       "\n",
       "    .dataframe thead th {\n",
       "        text-align: right;\n",
       "    }\n",
       "</style>\n",
       "<table border=\"1\" class=\"dataframe\">\n",
       "  <thead>\n",
       "    <tr style=\"text-align: right;\">\n",
       "      <th></th>\n",
       "      <th>Post link</th>\n",
       "      <th>City</th>\n",
       "      <th>Neighborhood</th>\n",
       "      <th>Size</th>\n",
       "      <th>Number of rooms</th>\n",
       "      <th>Floor number</th>\n",
       "      <th>Taxes</th>\n",
       "      <th>Price</th>\n",
       "      <th>Room mates</th>\n",
       "      <th>Furniture</th>\n",
       "      <th>Elevator</th>\n",
       "      <th>Air conditioner</th>\n",
       "      <th>Parking</th>\n",
       "      <th>Balcony</th>\n",
       "      <th>Bars</th>\n",
       "      <th>Shelter</th>\n",
       "      <th>Storeroom</th>\n",
       "      <th>Renovated</th>\n",
       "      <th>Boiler</th>\n",
       "      <th>Pets allowed</th>\n",
       "    </tr>\n",
       "  </thead>\n",
       "  <tbody>\n",
       "    <tr>\n",
       "      <th>0</th>\n",
       "      <td>dks8vn48</td>\n",
       "      <td>חדרה</td>\n",
       "      <td>גבעת אולגה</td>\n",
       "      <td>127</td>\n",
       "      <td>4.0</td>\n",
       "      <td>5.0</td>\n",
       "      <td>980.0</td>\n",
       "      <td>4700.0</td>\n",
       "      <td>1</td>\n",
       "      <td>1</td>\n",
       "      <td>1</td>\n",
       "      <td>1</td>\n",
       "      <td>1</td>\n",
       "      <td>1.0</td>\n",
       "      <td>1</td>\n",
       "      <td>1</td>\n",
       "      <td>1</td>\n",
       "      <td>1</td>\n",
       "      <td>1</td>\n",
       "      <td>1</td>\n",
       "    </tr>\n",
       "    <tr>\n",
       "      <th>1</th>\n",
       "      <td>jmjfaz37</td>\n",
       "      <td>חיפה</td>\n",
       "      <td>יל\"ג</td>\n",
       "      <td>65</td>\n",
       "      <td>3.5</td>\n",
       "      <td>1.0</td>\n",
       "      <td>NaN</td>\n",
       "      <td>2400.0</td>\n",
       "      <td>1</td>\n",
       "      <td>1</td>\n",
       "      <td>1</td>\n",
       "      <td>1</td>\n",
       "      <td>0</td>\n",
       "      <td>NaN</td>\n",
       "      <td>1</td>\n",
       "      <td>1</td>\n",
       "      <td>1</td>\n",
       "      <td>1</td>\n",
       "      <td>1</td>\n",
       "      <td>1</td>\n",
       "    </tr>\n",
       "    <tr>\n",
       "      <th>2</th>\n",
       "      <td>iphkc13r</td>\n",
       "      <td>רמות ספיר</td>\n",
       "      <td>שכונה י\"א</td>\n",
       "      <td>70</td>\n",
       "      <td>3.0</td>\n",
       "      <td>1.0</td>\n",
       "      <td>400.0</td>\n",
       "      <td>2450.0</td>\n",
       "      <td>1</td>\n",
       "      <td>1</td>\n",
       "      <td>1</td>\n",
       "      <td>1</td>\n",
       "      <td>1</td>\n",
       "      <td>NaN</td>\n",
       "      <td>1</td>\n",
       "      <td>1</td>\n",
       "      <td>1</td>\n",
       "      <td>1</td>\n",
       "      <td>1</td>\n",
       "      <td>1</td>\n",
       "    </tr>\n",
       "    <tr>\n",
       "      <th>3</th>\n",
       "      <td>9chmff31</td>\n",
       "      <td>קרית אתא</td>\n",
       "      <td>מרכז העיר</td>\n",
       "      <td>70</td>\n",
       "      <td>3.0</td>\n",
       "      <td>1.0</td>\n",
       "      <td>500.0</td>\n",
       "      <td>2900.0</td>\n",
       "      <td>1</td>\n",
       "      <td>1</td>\n",
       "      <td>1</td>\n",
       "      <td>1</td>\n",
       "      <td>0</td>\n",
       "      <td>NaN</td>\n",
       "      <td>1</td>\n",
       "      <td>1</td>\n",
       "      <td>1</td>\n",
       "      <td>1</td>\n",
       "      <td>1</td>\n",
       "      <td>1</td>\n",
       "    </tr>\n",
       "    <tr>\n",
       "      <th>4</th>\n",
       "      <td>yp7la93q</td>\n",
       "      <td>מגדל העמק</td>\n",
       "      <td>רמת בלפור</td>\n",
       "      <td>80</td>\n",
       "      <td>3.5</td>\n",
       "      <td>3.0</td>\n",
       "      <td>512.0</td>\n",
       "      <td>2095.0</td>\n",
       "      <td>1</td>\n",
       "      <td>1</td>\n",
       "      <td>1</td>\n",
       "      <td>1</td>\n",
       "      <td>1</td>\n",
       "      <td>NaN</td>\n",
       "      <td>1</td>\n",
       "      <td>1</td>\n",
       "      <td>1</td>\n",
       "      <td>1</td>\n",
       "      <td>1</td>\n",
       "      <td>1</td>\n",
       "    </tr>\n",
       "  </tbody>\n",
       "</table>\n",
       "</div>"
      ],
      "text/plain": [
       "  Post link       City Neighborhood  Size  Number of rooms  Floor number  \\\n",
       "0  dks8vn48       חדרה   גבעת אולגה   127              4.0           5.0   \n",
       "1  jmjfaz37       חיפה         יל\"ג    65              3.5           1.0   \n",
       "2  iphkc13r  רמות ספיר    שכונה י\"א    70              3.0           1.0   \n",
       "3  9chmff31   קרית אתא    מרכז העיר    70              3.0           1.0   \n",
       "4  yp7la93q  מגדל העמק    רמת בלפור    80              3.5           3.0   \n",
       "\n",
       "   Taxes   Price  Room mates  Furniture  Elevator  Air conditioner  Parking  \\\n",
       "0  980.0  4700.0           1          1         1                1        1   \n",
       "1    NaN  2400.0           1          1         1                1        0   \n",
       "2  400.0  2450.0           1          1         1                1        1   \n",
       "3  500.0  2900.0           1          1         1                1        0   \n",
       "4  512.0  2095.0           1          1         1                1        1   \n",
       "\n",
       "   Balcony  Bars  Shelter  Storeroom  Renovated  Boiler  Pets allowed  \n",
       "0      1.0     1        1          1          1       1             1  \n",
       "1      NaN     1        1          1          1       1             1  \n",
       "2      NaN     1        1          1          1       1             1  \n",
       "3      NaN     1        1          1          1       1             1  \n",
       "4      NaN     1        1          1          1       1             1  "
      ]
     },
     "execution_count": 3,
     "metadata": {},
     "output_type": "execute_result"
    }
   ],
   "source": [
    "yad2_df = read_csv('raw_yad2_data.csv')\n",
    "yad2_df.head()"
   ]
  },
  {
   "cell_type": "code",
   "execution_count": 4,
   "metadata": {
    "pycharm": {
     "name": "#%%\n"
    }
   },
   "outputs": [
    {
     "data": {
      "text/plain": [
       "(9110, 20)"
      ]
     },
     "execution_count": 4,
     "metadata": {},
     "output_type": "execute_result"
    }
   ],
   "source": [
    "yad2_df.shape"
   ]
  },
  {
   "cell_type": "markdown",
   "metadata": {},
   "source": [
    "#### Removing duplicates\n",
    "We used the 'Post link' feature as a unique identifier for each entry. The 'Post link' is the suffix of the URL which is used to identify each post. For example, a link to a post will look like: \"https://www.yad2.co.il/item/x29qkv38\", so it's 'Post link' will be \"x29qkv38\".\n",
    "We can see that we had about 3000 duplicates, this is because the crawler sometimes would fail, or get blocked by the server, so it will try to get the whole page again and this would create many duplicates."
   ]
  },
  {
   "cell_type": "code",
   "execution_count": 5,
   "metadata": {
    "pycharm": {
     "name": "#%%\n"
    }
   },
   "outputs": [
    {
     "data": {
      "text/plain": [
       "(6650, 20)"
      ]
     },
     "execution_count": 5,
     "metadata": {},
     "output_type": "execute_result"
    }
   ],
   "source": [
    "yad2_df.drop_duplicates(['Post link'], inplace=True)\n",
    "yad2_df.shape"
   ]
  },
  {
   "cell_type": "markdown",
   "metadata": {},
   "source": [
    "#### Handling null values\n",
    "The 'Price' and 'Number of rooms' are 2 key features in our data set. Because of that, we decided to drop entries that had that value missing.\n",
    "As we can see, we will only lose about 200 entries, which is not much."
   ]
  },
  {
   "cell_type": "code",
   "execution_count": 6,
   "metadata": {
    "pycharm": {
     "name": "#%%\n"
    }
   },
   "outputs": [
    {
     "name": "stdout",
     "output_type": "stream",
     "text": [
      "<class 'pandas.core.frame.DataFrame'>\n",
      "Int64Index: 6344 entries, 0 to 9109\n",
      "Data columns (total 20 columns):\n",
      " #   Column           Non-Null Count  Dtype  \n",
      "---  ------           --------------  -----  \n",
      " 0   Post link        6344 non-null   object \n",
      " 1   City             6344 non-null   object \n",
      " 2   Neighborhood     6344 non-null   object \n",
      " 3   Size             6344 non-null   int64  \n",
      " 4   Number of rooms  6344 non-null   float64\n",
      " 5   Floor number     5960 non-null   float64\n",
      " 6   Taxes            2866 non-null   float64\n",
      " 7   Price            6344 non-null   float64\n",
      " 8   Room mates       6344 non-null   int64  \n",
      " 9   Furniture        6344 non-null   int64  \n",
      " 10  Elevator         6344 non-null   int64  \n",
      " 11  Air conditioner  6344 non-null   int64  \n",
      " 12  Parking          6344 non-null   int64  \n",
      " 13  Balcony          2871 non-null   float64\n",
      " 14  Bars             6344 non-null   int64  \n",
      " 15  Shelter          6344 non-null   int64  \n",
      " 16  Storeroom        6344 non-null   int64  \n",
      " 17  Renovated        6344 non-null   int64  \n",
      " 18  Boiler           6344 non-null   int64  \n",
      " 19  Pets allowed     6344 non-null   int64  \n",
      "dtypes: float64(5), int64(12), object(3)\n",
      "memory usage: 1.0+ MB\n"
     ]
    }
   ],
   "source": [
    "yad2_df.dropna(subset=['Price', 'Number of rooms'], inplace=True)\n",
    "yad2_df.info()"
   ]
  },
  {
   "cell_type": "markdown",
   "metadata": {},
   "source": [
    "We chose to fill in the missing values in some features.\n",
    "The missing values of the 'Balcony' feature is due to fact that some posts were missing that value, so we took an assumption that if an apartment would have a balcony, the owner would have mentioned it in the post, and if he didn't, that is probably because there is no balcony.\n",
    "\n",
    "To fill the missing values of the 'Floor number' feature we chose to use median, because it gives less weigh to edge values. Meaning that if we had an entry with 'Floor number' of 100, it wouldn't affect as much on the median as it would affect the average."
   ]
  },
  {
   "cell_type": "code",
   "execution_count": 7,
   "metadata": {
    "pycharm": {
     "name": "#%%\n"
    }
   },
   "outputs": [
    {
     "name": "stdout",
     "output_type": "stream",
     "text": [
      "<class 'pandas.core.frame.DataFrame'>\n",
      "Int64Index: 6344 entries, 0 to 9109\n",
      "Data columns (total 20 columns):\n",
      " #   Column           Non-Null Count  Dtype  \n",
      "---  ------           --------------  -----  \n",
      " 0   Post link        6344 non-null   object \n",
      " 1   City             6344 non-null   object \n",
      " 2   Neighborhood     6344 non-null   object \n",
      " 3   Size             6344 non-null   int64  \n",
      " 4   Number of rooms  6344 non-null   float64\n",
      " 5   Floor number     6344 non-null   float64\n",
      " 6   Taxes            2866 non-null   float64\n",
      " 7   Price            6344 non-null   float64\n",
      " 8   Room mates       6344 non-null   int64  \n",
      " 9   Furniture        6344 non-null   int64  \n",
      " 10  Elevator         6344 non-null   int64  \n",
      " 11  Air conditioner  6344 non-null   int64  \n",
      " 12  Parking          6344 non-null   int64  \n",
      " 13  Balcony          6344 non-null   float64\n",
      " 14  Bars             6344 non-null   int64  \n",
      " 15  Shelter          6344 non-null   int64  \n",
      " 16  Storeroom        6344 non-null   int64  \n",
      " 17  Renovated        6344 non-null   int64  \n",
      " 18  Boiler           6344 non-null   int64  \n",
      " 19  Pets allowed     6344 non-null   int64  \n",
      "dtypes: float64(5), int64(12), object(3)\n",
      "memory usage: 1.0+ MB\n"
     ]
    }
   ],
   "source": [
    "yad2_df['Floor number'].fillna(value=yad2_df['Floor number'].median(), inplace=True)\n",
    "yad2_df['Balcony'].fillna(value=0, inplace=True)\n",
    "yad2_df.info()"
   ]
  },
  {
   "cell_type": "markdown",
   "metadata": {},
   "source": [
    "#### Removing unnecessary features"
   ]
  },
  {
   "cell_type": "code",
   "execution_count": 8,
   "metadata": {
    "pycharm": {
     "name": "#%%\n"
    }
   },
   "outputs": [],
   "source": [
    "yad2_df.drop(['Post link', 'Taxes'], axis=1, inplace=True)"
   ]
  },
  {
   "cell_type": "markdown",
   "metadata": {},
   "source": [
    "## Homeless.co.il Data\n",
    "We will follow the same procedure as before for the Homeless data set.\n",
    "We loaded the CSV and took a look at a few entries."
   ]
  },
  {
   "cell_type": "code",
   "execution_count": 9,
   "metadata": {
    "pycharm": {
     "name": "#%%\n"
    }
   },
   "outputs": [
    {
     "data": {
      "text/html": [
       "<div>\n",
       "<style scoped>\n",
       "    .dataframe tbody tr th:only-of-type {\n",
       "        vertical-align: middle;\n",
       "    }\n",
       "\n",
       "    .dataframe tbody tr th {\n",
       "        vertical-align: top;\n",
       "    }\n",
       "\n",
       "    .dataframe thead th {\n",
       "        text-align: right;\n",
       "    }\n",
       "</style>\n",
       "<table border=\"1\" class=\"dataframe\">\n",
       "  <thead>\n",
       "    <tr style=\"text-align: right;\">\n",
       "      <th></th>\n",
       "      <th>Page number</th>\n",
       "      <th>City</th>\n",
       "      <th>Neighborhood</th>\n",
       "      <th>Size</th>\n",
       "      <th>Number of rooms</th>\n",
       "      <th>Floor number</th>\n",
       "      <th>Taxes</th>\n",
       "      <th>Price</th>\n",
       "      <th>Room mates</th>\n",
       "      <th>Furniture</th>\n",
       "      <th>Elevator</th>\n",
       "      <th>Air conditioner</th>\n",
       "      <th>Parking</th>\n",
       "      <th>Balcony</th>\n",
       "      <th>Bars</th>\n",
       "      <th>Shelter</th>\n",
       "      <th>Storeroom</th>\n",
       "      <th>Renovated</th>\n",
       "      <th>Boiler</th>\n",
       "      <th>Pets allowed</th>\n",
       "    </tr>\n",
       "  </thead>\n",
       "  <tbody>\n",
       "    <tr>\n",
       "      <th>0</th>\n",
       "      <td>685019</td>\n",
       "      <td>חיפה</td>\n",
       "      <td>נוה שאנן</td>\n",
       "      <td>80.0</td>\n",
       "      <td>3.0</td>\n",
       "      <td>3.0</td>\n",
       "      <td>1150</td>\n",
       "      <td>3400.0</td>\n",
       "      <td>0</td>\n",
       "      <td>1</td>\n",
       "      <td>0</td>\n",
       "      <td>1</td>\n",
       "      <td>0</td>\n",
       "      <td>0</td>\n",
       "      <td>0</td>\n",
       "      <td>0</td>\n",
       "      <td>0</td>\n",
       "      <td>1</td>\n",
       "      <td>1</td>\n",
       "      <td>0</td>\n",
       "    </tr>\n",
       "    <tr>\n",
       "      <th>1</th>\n",
       "      <td>685018</td>\n",
       "      <td>חיפה</td>\n",
       "      <td>נווה שאנן</td>\n",
       "      <td>35.0</td>\n",
       "      <td>1.0</td>\n",
       "      <td>1.0</td>\n",
       "      <td>280</td>\n",
       "      <td>1950.0</td>\n",
       "      <td>0</td>\n",
       "      <td>1</td>\n",
       "      <td>0</td>\n",
       "      <td>1</td>\n",
       "      <td>0</td>\n",
       "      <td>0</td>\n",
       "      <td>1</td>\n",
       "      <td>0</td>\n",
       "      <td>0</td>\n",
       "      <td>1</td>\n",
       "      <td>1</td>\n",
       "      <td>0</td>\n",
       "    </tr>\n",
       "    <tr>\n",
       "      <th>2</th>\n",
       "      <td>685017</td>\n",
       "      <td>פוריה כפר עבודה</td>\n",
       "      <td>החרוב</td>\n",
       "      <td>90.0</td>\n",
       "      <td>3.0</td>\n",
       "      <td>0.0</td>\n",
       "      <td>0</td>\n",
       "      <td>3800.0</td>\n",
       "      <td>0</td>\n",
       "      <td>0</td>\n",
       "      <td>0</td>\n",
       "      <td>1</td>\n",
       "      <td>1</td>\n",
       "      <td>1</td>\n",
       "      <td>0</td>\n",
       "      <td>0</td>\n",
       "      <td>0</td>\n",
       "      <td>1</td>\n",
       "      <td>0</td>\n",
       "      <td>0</td>\n",
       "    </tr>\n",
       "    <tr>\n",
       "      <th>3</th>\n",
       "      <td>685016</td>\n",
       "      <td>פוריה כפר עבודה</td>\n",
       "      <td>החרוב</td>\n",
       "      <td>90.0</td>\n",
       "      <td>3.0</td>\n",
       "      <td>0.0</td>\n",
       "      <td>0</td>\n",
       "      <td>3800.0</td>\n",
       "      <td>0</td>\n",
       "      <td>0</td>\n",
       "      <td>0</td>\n",
       "      <td>1</td>\n",
       "      <td>1</td>\n",
       "      <td>1</td>\n",
       "      <td>0</td>\n",
       "      <td>0</td>\n",
       "      <td>0</td>\n",
       "      <td>1</td>\n",
       "      <td>0</td>\n",
       "      <td>0</td>\n",
       "    </tr>\n",
       "    <tr>\n",
       "      <th>4</th>\n",
       "      <td>685015</td>\n",
       "      <td>תל אביב יפו</td>\n",
       "      <td>גימל החדשה</td>\n",
       "      <td>86.0</td>\n",
       "      <td>3.0</td>\n",
       "      <td>1.0</td>\n",
       "      <td>1180</td>\n",
       "      <td>11000.0</td>\n",
       "      <td>0</td>\n",
       "      <td>1</td>\n",
       "      <td>1</td>\n",
       "      <td>1</td>\n",
       "      <td>1</td>\n",
       "      <td>1</td>\n",
       "      <td>0</td>\n",
       "      <td>1</td>\n",
       "      <td>0</td>\n",
       "      <td>1</td>\n",
       "      <td>0</td>\n",
       "      <td>1</td>\n",
       "    </tr>\n",
       "  </tbody>\n",
       "</table>\n",
       "</div>"
      ],
      "text/plain": [
       "   Page number             City Neighborhood  Size  Number of rooms  \\\n",
       "0       685019             חיפה     נוה שאנן  80.0              3.0   \n",
       "1       685018             חיפה    נווה שאנן  35.0              1.0   \n",
       "2       685017  פוריה כפר עבודה        החרוב  90.0              3.0   \n",
       "3       685016  פוריה כפר עבודה        החרוב  90.0              3.0   \n",
       "4       685015      תל אביב יפו   גימל החדשה  86.0              3.0   \n",
       "\n",
       "   Floor number  Taxes    Price  Room mates  Furniture  Elevator  \\\n",
       "0           3.0   1150   3400.0           0          1         0   \n",
       "1           1.0    280   1950.0           0          1         0   \n",
       "2           0.0      0   3800.0           0          0         0   \n",
       "3           0.0      0   3800.0           0          0         0   \n",
       "4           1.0   1180  11000.0           0          1         1   \n",
       "\n",
       "   Air conditioner  Parking  Balcony  Bars  Shelter  Storeroom  Renovated  \\\n",
       "0                1        0        0     0        0          0          1   \n",
       "1                1        0        0     1        0          0          1   \n",
       "2                1        1        1     0        0          0          1   \n",
       "3                1        1        1     0        0          0          1   \n",
       "4                1        1        1     0        1          0          1   \n",
       "\n",
       "   Boiler  Pets allowed  \n",
       "0       1             0  \n",
       "1       1             0  \n",
       "2       0             0  \n",
       "3       0             0  \n",
       "4       0             1  "
      ]
     },
     "execution_count": 9,
     "metadata": {},
     "output_type": "execute_result"
    }
   ],
   "source": [
    "homeless_df = read_csv('raw_homeless_data.csv')\n",
    "homeless_df.head()"
   ]
  },
  {
   "cell_type": "code",
   "execution_count": 10,
   "metadata": {},
   "outputs": [
    {
     "name": "stdout",
     "output_type": "stream",
     "text": [
      "<class 'pandas.core.frame.DataFrame'>\n",
      "RangeIndex: 4522 entries, 0 to 4521\n",
      "Data columns (total 20 columns):\n",
      " #   Column           Non-Null Count  Dtype  \n",
      "---  ------           --------------  -----  \n",
      " 0   Page number      4522 non-null   int64  \n",
      " 1   City             4521 non-null   object \n",
      " 2   Neighborhood     4522 non-null   object \n",
      " 3   Size             4485 non-null   float64\n",
      " 4   Number of rooms  4475 non-null   float64\n",
      " 5   Floor number     4511 non-null   float64\n",
      " 6   Taxes            4522 non-null   int64  \n",
      " 7   Price            4475 non-null   float64\n",
      " 8   Room mates       4522 non-null   int64  \n",
      " 9   Furniture        4522 non-null   int64  \n",
      " 10  Elevator         4522 non-null   int64  \n",
      " 11  Air conditioner  4522 non-null   int64  \n",
      " 12  Parking          4522 non-null   int64  \n",
      " 13  Balcony          4522 non-null   int64  \n",
      " 14  Bars             4522 non-null   int64  \n",
      " 15  Shelter          4522 non-null   int64  \n",
      " 16  Storeroom        4522 non-null   int64  \n",
      " 17  Renovated        4522 non-null   int64  \n",
      " 18  Boiler           4522 non-null   int64  \n",
      " 19  Pets allowed     4522 non-null   int64  \n",
      "dtypes: float64(4), int64(14), object(2)\n",
      "memory usage: 706.7+ KB\n"
     ]
    }
   ],
   "source": [
    "homeless_df.info()"
   ]
  },
  {
   "cell_type": "markdown",
   "metadata": {},
   "source": [
    "#### Removing duplicates\n",
    "As before, we used the 'Page number' as a unique identifier for each entry. This feature holds the number of the post that is listed at Homeless. If we have a post with the following link: \"https://www.homeless.co.il/rent/viewad,685021\", it's post number would be \"685021\".\n",
    "This time, we only had 1 duplicate to remove."
   ]
  },
  {
   "cell_type": "code",
   "execution_count": 11,
   "metadata": {
    "pycharm": {
     "name": "#%%\n"
    }
   },
   "outputs": [
    {
     "name": "stdout",
     "output_type": "stream",
     "text": [
      "<class 'pandas.core.frame.DataFrame'>\n",
      "Int64Index: 4521 entries, 0 to 4521\n",
      "Data columns (total 20 columns):\n",
      " #   Column           Non-Null Count  Dtype  \n",
      "---  ------           --------------  -----  \n",
      " 0   Page number      4521 non-null   int64  \n",
      " 1   City             4520 non-null   object \n",
      " 2   Neighborhood     4521 non-null   object \n",
      " 3   Size             4484 non-null   float64\n",
      " 4   Number of rooms  4474 non-null   float64\n",
      " 5   Floor number     4510 non-null   float64\n",
      " 6   Taxes            4521 non-null   int64  \n",
      " 7   Price            4474 non-null   float64\n",
      " 8   Room mates       4521 non-null   int64  \n",
      " 9   Furniture        4521 non-null   int64  \n",
      " 10  Elevator         4521 non-null   int64  \n",
      " 11  Air conditioner  4521 non-null   int64  \n",
      " 12  Parking          4521 non-null   int64  \n",
      " 13  Balcony          4521 non-null   int64  \n",
      " 14  Bars             4521 non-null   int64  \n",
      " 15  Shelter          4521 non-null   int64  \n",
      " 16  Storeroom        4521 non-null   int64  \n",
      " 17  Renovated        4521 non-null   int64  \n",
      " 18  Boiler           4521 non-null   int64  \n",
      " 19  Pets allowed     4521 non-null   int64  \n",
      "dtypes: float64(4), int64(14), object(2)\n",
      "memory usage: 741.7+ KB\n"
     ]
    }
   ],
   "source": [
    "homeless_df.drop_duplicates(['Page number'], inplace=True)\n",
    "homeless_df.info()"
   ]
  },
  {
   "cell_type": "markdown",
   "metadata": {},
   "source": [
    "#### Handling null values\n",
    "We chose to drop entries that were missing critical features.\n",
    "the amount of the data we lost was pretty small (150~) so it's not that bad."
   ]
  },
  {
   "cell_type": "code",
   "execution_count": 12,
   "metadata": {
    "pycharm": {
     "name": "#%%\n"
    }
   },
   "outputs": [
    {
     "name": "stdout",
     "output_type": "stream",
     "text": [
      "<class 'pandas.core.frame.DataFrame'>\n",
      "Int64Index: 4401 entries, 0 to 4521\n",
      "Data columns (total 20 columns):\n",
      " #   Column           Non-Null Count  Dtype  \n",
      "---  ------           --------------  -----  \n",
      " 0   Page number      4401 non-null   int64  \n",
      " 1   City             4401 non-null   object \n",
      " 2   Neighborhood     4401 non-null   object \n",
      " 3   Size             4401 non-null   float64\n",
      " 4   Number of rooms  4401 non-null   float64\n",
      " 5   Floor number     4392 non-null   float64\n",
      " 6   Taxes            4401 non-null   int64  \n",
      " 7   Price            4401 non-null   float64\n",
      " 8   Room mates       4401 non-null   int64  \n",
      " 9   Furniture        4401 non-null   int64  \n",
      " 10  Elevator         4401 non-null   int64  \n",
      " 11  Air conditioner  4401 non-null   int64  \n",
      " 12  Parking          4401 non-null   int64  \n",
      " 13  Balcony          4401 non-null   int64  \n",
      " 14  Bars             4401 non-null   int64  \n",
      " 15  Shelter          4401 non-null   int64  \n",
      " 16  Storeroom        4401 non-null   int64  \n",
      " 17  Renovated        4401 non-null   int64  \n",
      " 18  Boiler           4401 non-null   int64  \n",
      " 19  Pets allowed     4401 non-null   int64  \n",
      "dtypes: float64(4), int64(14), object(2)\n",
      "memory usage: 722.0+ KB\n"
     ]
    }
   ],
   "source": [
    "homeless_df.dropna(subset=['Price', 'City', 'Number of rooms', 'Size'], inplace=True)\n",
    "homeless_df.info()"
   ]
  },
  {
   "cell_type": "markdown",
   "metadata": {},
   "source": [
    "To handle the null values for the 'Floor number' feature, we used median. Same as we did for the Yad2 data set"
   ]
  },
  {
   "cell_type": "code",
   "execution_count": 13,
   "metadata": {
    "pycharm": {
     "name": "#%%\n"
    }
   },
   "outputs": [
    {
     "name": "stdout",
     "output_type": "stream",
     "text": [
      "<class 'pandas.core.frame.DataFrame'>\n",
      "Int64Index: 4401 entries, 0 to 4521\n",
      "Data columns (total 20 columns):\n",
      " #   Column           Non-Null Count  Dtype  \n",
      "---  ------           --------------  -----  \n",
      " 0   Page number      4401 non-null   int64  \n",
      " 1   City             4401 non-null   object \n",
      " 2   Neighborhood     4401 non-null   object \n",
      " 3   Size             4401 non-null   float64\n",
      " 4   Number of rooms  4401 non-null   float64\n",
      " 5   Floor number     4401 non-null   float64\n",
      " 6   Taxes            4401 non-null   int64  \n",
      " 7   Price            4401 non-null   float64\n",
      " 8   Room mates       4401 non-null   int64  \n",
      " 9   Furniture        4401 non-null   int64  \n",
      " 10  Elevator         4401 non-null   int64  \n",
      " 11  Air conditioner  4401 non-null   int64  \n",
      " 12  Parking          4401 non-null   int64  \n",
      " 13  Balcony          4401 non-null   int64  \n",
      " 14  Bars             4401 non-null   int64  \n",
      " 15  Shelter          4401 non-null   int64  \n",
      " 16  Storeroom        4401 non-null   int64  \n",
      " 17  Renovated        4401 non-null   int64  \n",
      " 18  Boiler           4401 non-null   int64  \n",
      " 19  Pets allowed     4401 non-null   int64  \n",
      "dtypes: float64(4), int64(14), object(2)\n",
      "memory usage: 722.0+ KB\n"
     ]
    }
   ],
   "source": [
    "homeless_df['Floor number'].fillna(value=homeless_df['Floor number'].median(), inplace=True)\n",
    "homeless_df.info()"
   ]
  },
  {
   "cell_type": "markdown",
   "metadata": {},
   "source": [
    "#### Removing unnecessary features"
   ]
  },
  {
   "cell_type": "code",
   "execution_count": 14,
   "metadata": {
    "pycharm": {
     "name": "#%%\n"
    }
   },
   "outputs": [],
   "source": [
    "homeless_df.drop(['Page number', 'Taxes'], axis=1, inplace=True)"
   ]
  },
  {
   "cell_type": "markdown",
   "metadata": {},
   "source": [
    "# Concatenating the data frames\n",
    "Now that we cleaned both the Yad2 and Homeless data frames, we can merge them and manipulate them as one data frame.\n",
    "We can see that we got a total of around 10,000 entries and more than 160,000 pieces of data."
   ]
  },
  {
   "cell_type": "code",
   "execution_count": 15,
   "metadata": {
    "pycharm": {
     "name": "#%%\n"
    }
   },
   "outputs": [
    {
     "data": {
      "text/plain": [
       "(10745, 18)"
      ]
     },
     "execution_count": 15,
     "metadata": {},
     "output_type": "execute_result"
    }
   ],
   "source": [
    "df = pd.concat([yad2_df, homeless_df], ignore_index=True, sort=False)\n",
    "df.shape"
   ]
  },
  {
   "cell_type": "markdown",
   "metadata": {},
   "source": [
    "#### Handle mis-matches in the 2 data sets\n",
    "We noticed a few mismatches between the 2 data sets in string fields. For example, in Yad2 the value for Tel-Aviv could be \"תל-אביב\" and in Homeless it could be \"תל אביב\". We would like to map those 2 different values into 1. This issue had required alot of manual work.\n",
    "Check the output below to see the issue with the 'City' feature."
   ]
  },
  {
   "cell_type": "code",
   "execution_count": 16,
   "metadata": {
    "pycharm": {
     "name": "#%%\n"
    }
   },
   "outputs": [
    {
     "data": {
      "text/plain": [
       "array([' אזור', ' נתניה', ' פרדס חנה', '1', '12312', '12323', '21343214',\n",
       "       '2341234', '45645645', '54645645', '6546', '678678678', 'Bat Yam',\n",
       "       'Bבאר שבע', 'G פתח תקווה', 'G רמת גן', 'Tel Aviv-Yafo', 'jחיפה',\n",
       "       'rosh haayin', 'rרמת השרון /הרצליה', 'Бат ям', 'אבו גוש',\n",
       "       'אבו סלמאן', 'אביחיל', 'אביעזר', 'אבן יהודה', 'אבן ספיר',\n",
       "       'אבני חפץ', 'אדורה', 'אדם - גבע בנימין', 'אופקים', 'אור יהודה',\n",
       "       'אור ים', 'אור עקיבא', 'אור עקיבא ', 'אורה', 'אזור',\n",
       "       'אזור המלאכה יפו', 'אחוה יעקב', 'אחוזת רוטנר', 'אחיסמך', 'אחיעזר',\n",
       "       'אילת', 'אלון שבות', 'אליפלט', 'אליקים', 'אלעד', 'אלעד ', 'אלעזר',\n",
       "       'אלקנה', 'אמונים', 'אפקה', 'אפרת', 'אקדמאים', 'אריאל',\n",
       "       'ארנונה החדשה', 'אשדוד', 'אשדוד,איזור ב', 'אשק', 'אשקלון',\n",
       "       'אשקלון ', 'אשקלון.רמת האשכול', 'אשתאול', 'באר גנים', 'באר יעקב',\n",
       "       'באר ש', 'באר שבע', 'באר שבע ', 'בית אל', 'בית דגן', 'בית זית',\n",
       "       'בית יעקב', 'בית שאן', 'בית שיקמה', 'בית שמש', 'בית שמש ',\n",
       "       'ביתר עילית', 'בלפוריה', 'בן גוריון', 'בן זכאי', 'בן עמי',\n",
       "       'בנה ביתך', 'בני ב', 'בני ברק', 'בני ברק גבול רמת גן', 'בני עי\"ש',\n",
       "       'בנימינה', 'בנימינה גבעת עדה', 'ברקן', 'ברקת', 'בת יים', 'בת ים',\n",
       "       'גבים', 'גבע בנימין (אדם)', 'גבע כרמל', 'גבעון החדשה', 'גבעת אלה',\n",
       "       'גבעת העליה', 'גבעת התמרים', 'גבעת זאב', 'גבעת עדה', 'גבעת שמואל',\n",
       "       'גבעת שפירא', 'גבעת תל חי', 'גבעתיים', 'גבעתיים ', 'גדעונה',\n",
       "       'גדרה', 'גיורא יוספטל', 'גימל החדשה', 'גיניגר', 'גן השומרון',\n",
       "       'גן יבנה', 'גני אביב', 'גני טל', 'גני יוחנן', 'גני מודיעין',\n",
       "       'גני ראשון', 'גני תקווה', 'דאלית אל כרמל', 'דולב', 'דימונה',\n",
       "       'דניה', 'דקר', 'הארגזים', 'הגבעה הצרפתית', 'הגולף', 'הדר',\n",
       "       'הדרים החדשה', 'הוד השרון', 'הודיה', 'החולון',\n",
       "       'המושבה האמריקאית-גרמנית', 'הסיטי', 'העמק', 'הר אדר', 'הר גילה',\n",
       "       'הר חומה', 'הרכבת', 'הרצליה', 'הרצליה ', 'ואדי סאליב', 'ושוהם',\n",
       "       'זכרון יעקב', 'זכריה', 'חדרה', 'חדרה ', 'חדרה הצעירה', 'חולו',\n",
       "       'חולון', 'חוסן', 'חטיבת הנחל חדרה', 'חיפ', 'חיפה', 'חיפה ',\n",
       "       'חיפה אחוזה', 'חיפה הדר', 'חלץ', 'חמד', 'חצור אשדוד',\n",
       "       'חצור הגלילית', 'חריש', 'חשמונאים', 'טבריה', 'טבריה ',\n",
       "       'טירת הכרמל', 'טירת כרמ', 'טירת כרמל', 'טירת כרמל ',\n",
       "       'טירת כרמלכרמל ', 'טירת שלום', 'יבנה', 'יד אליהו', 'יד נתן',\n",
       "       \"יד רמב''ם\", 'יד שמואל', 'יהוד', 'יהוד מונוסון', 'יוקינעם',\n",
       "       'יוקנעם', 'יפו', \"יפו ג'\", 'יפו ד.', 'יפעת', 'יקנעם עילית',\n",
       "       'ירוחם', 'ירושליים', 'ירושלים', 'ירושלים ', 'ירושלים טלביה',\n",
       "       'ירושלים פסגת זאב מזרח', 'ירשלים', 'כוכב הצפון', 'כוכב יעקב',\n",
       "       'כוכב מיכאל', 'כחל', 'כפר אדומים', \"כפר אז''ר\", 'כפר דניאל',\n",
       "       'כפר ורדים', 'כפר חנניה', 'כפר טרומן', 'כפר יהושע', 'כפר יונה',\n",
       "       'כפר סבא', 'כפר סבא ', 'כפר קאסם', 'כפר שלם מערב', 'כרמי צור',\n",
       "       'כרמיאל', 'כרמיאל ', 'לב העיר', 'לב העיר צפון', 'לב יבנה', 'להבים',\n",
       "       'לוד', 'למד', 'לשם עלי זהב', 'מבוא ביתר', 'מבוא מודיעים',\n",
       "       'מבשרת ציון', 'מגדים', 'מגדל', 'מגדל העמק', 'מודיעין מכבים רעות',\n",
       "       'מודיעין עילית', 'מוצא עילית', 'מורשה', 'מושב נס הרים',\n",
       "       'מושב נס הרים ', 'מזכרת בתיה', 'מטולה', 'מטע', 'מנחמיה', 'מנחת',\n",
       "       'מעגלים', 'מעלה אדומים', 'מעלה מכמש', 'מעלה עמוס', 'מעלות תרשיחא',\n",
       "       'מערב 1', 'מערב 2', 'מערב ותיק', 'מצובה', 'מצליח', 'מצפה רמון',\n",
       "       'מרינה הרצליה ', 'מרכז העיר', 'מרכז העיר א', 'מרכז העיר ב',\n",
       "       \"מרכז העיר ג'\", 'משמר איילון', 'מתן', 'נאות אילן', 'נאות גולף',\n",
       "       'נאות פרס', 'נבת ים', 'נהלל', 'נהריה', 'נהרייה', 'נוה ברבור',\n",
       "       'נוה מונוסון', 'נוה שאנן', 'נווה ', 'נווה דן', 'נווה כפיר',\n",
       "       'נווה מיכאל', 'נווה עובד', 'נווה שאנן', 'נווה שרת', 'נוף הגליל',\n",
       "       'נוף הגליל נצרת עילית', 'נוקדים', 'נחלת יצחק', 'נחריש', 'ניל\"י',\n",
       "       'ניצני עוז', 'ניר יפה', 'נירית', 'נס הרים', 'נס ציונה', 'נעלה',\n",
       "       'נצרת', 'נצרת עילית', 'נצרת עילית / נוף הגליל', 'נשר', 'נתיבות',\n",
       "       'נתני', 'נתניה', 'סביון', 'סביניה', 'סמילנסקי', 'עוספיה',\n",
       "       'עין ורד', 'עיספיא', 'עכו', 'עלי', 'עלי זהב', 'עלמון', 'עמינדב',\n",
       "       'עמנואל', 'עספיא', 'עפולה', 'עפרה', 'עץ אפרים', 'עראבה', 'ערד',\n",
       "       'ערמונים', 'עתלית', 'פארק הים', 'פארק לאומי וחופים', 'פארק צמרת',\n",
       "       'פוריה כפר עבודה', 'פוריה עילית', 'פיסגת זאב', 'פיסגתזאב',\n",
       "       'פסגות אפק', 'פסגת זאב', 'פסגת לוד', 'פרדס בחסכון',\n",
       "       'פרדס חנה - כרכור', 'פרדס חנה כרכור', 'פרדסיה', 'פרזון', 'פתח ',\n",
       "       'פתח תקוה', 'פתח תקווה', 'פתח תקווה ', 'פתח תקווהתקווה', 'פתחיה',\n",
       "       'צופין', 'צור יצחק', 'צפון העיר', 'צפון תל אביב הישן', 'צפת',\n",
       "       'קדימה צורן', 'קדר', 'קוממיות', 'קיסריה', 'קירית ביאליק',\n",
       "       'קציר חריש', 'קצרין', 'קריית אתא', 'קריית באליק', 'קריית ביאליק',\n",
       "       'קריית גת', 'קריית חיים ', 'קריית טבעון', 'קריית ים',\n",
       "       'קריית מוצקין', 'קרית אונו', 'קרית ארבע', 'קרית את', 'קרית אתא',\n",
       "       'קרית אתא.', 'קרית ביאליק', 'קרית גת', 'קרית הממשלה', 'קרית חיים',\n",
       "       'קרית טבעון', 'קרית יובל ירושלים', 'קרית ים', 'קרית ים ',\n",
       "       'קרית מוצקין', 'קרית מלאכי', 'קרית עבודה', 'קרית עקרון',\n",
       "       'קרית שמונה', 'קרני שומרון', 'ראש העין', 'ראש פינה', 'ראשו',\n",
       "       'ראשוון לציון', 'ראשון', 'ראשון לציון', 'ראשון לציון ',\n",
       "       'ראשון לציון מערב', 'ראשוןון לציון', 'ראשל\"צ ', 'רבבה', 'רהט',\n",
       "       'רחובות', 'רחובות ', 'רימונים', 'רמב\"ם', 'רמות ספיר', 'רמות רמז',\n",
       "       'רמלה', 'רמת אביב', 'רמת אביב ג', 'רמת אביב החדשה', 'רמת אליהו',\n",
       "       'רמת בית הכרם', 'רמת גן', 'רמת גן ', 'רמת גןנגבהמ', 'רמת הליאו',\n",
       "       'רמת השקמה', 'רמת השרון', 'רמת יוסף', 'רמת יצחק', 'רמת ישי',\n",
       "       'רמת ישי ', 'רמת פולג', 'רמתגן', 'רסקו', 'רעננה', 'ררמת גן',\n",
       "       'ררמת השרון', 'שביב', 'שביט', 'שדה יצחק', 'שדה צבי', 'שדי חמד',\n",
       "       'שדר', 'שדרות', 'שוהם', 'שורש', 'שחמון', \"שיכון א'\", \"שיכון ב'\",\n",
       "       \"שיכון ג'\", \"שיכון ד'\", \"שיכון ה'\", 'שיכוני חסכון', 'שכונת דן ',\n",
       "       'שלומי', 'שמואל הנביא', 'שערי חסד', 'שפיר', 'שקד', 'שרונה',\n",
       "       'תחנת רכבת השמונה', 'תל א', 'תל אבי', 'תל אביב', 'תל אביב ',\n",
       "       'תל אביב טופ דן', 'תל אביב יפו', 'תל אביב-יפו', 'תל כביר',\n",
       "       'תל מונד', 'תל עדשים', 'תל-אביב', 'תלפיות מזרח', 'תרום', '⁷נשר',\n",
       "       '⁹תל אביב יפו'], dtype=object)"
      ]
     },
     "execution_count": 16,
     "metadata": {},
     "output_type": "execute_result"
    }
   ],
   "source": [
    "np.sort(df['City'].unique())"
   ]
  },
  {
   "cell_type": "code",
   "execution_count": 17,
   "metadata": {
    "pycharm": {
     "name": "#%%\n"
    }
   },
   "outputs": [
    {
     "data": {
      "text/plain": [
       "['קריית אתא', 'קרית אתא.', 'קרית את', 'קרית אתא']"
      ]
     },
     "execution_count": 17,
     "metadata": {},
     "output_type": "execute_result"
    }
   ],
   "source": [
    "['Bat Yam', 'בת יים', 'נבת ים', 'בת ים','רמת יוסף','פארק הים','קוממיות']\n",
    "['תל-אביב', 'תל אביב יפו', 'תל אביב', 'תל אביב', '⁹תל אביב יפו', 'תל אביב טופ דן', 'תל א', 'שרונה', 'המושבה האמריקאית-גרמנית','פארק צמרת','נווה שרת','שיכוני חסכון','שכונת דן','שרונה','רמת אביב','רמת אביב ג','רמת אביב החדשה','צפון תל אביב הישן','כוכב הצפון','יפו ג','אזור המלאכה יפו','יפו ד.','גבעת העליה','גימל החדשה','נוה ברבור','הארגזים','גבעת התמרים','גבעת העליה']\n",
    "['ראשון', 'ראשוון לציון', 'ראשוןון לציון', 'ראשל\"צ', 'ראשון לציון','ראשו','ראשון לציון מערב','מערב ותיק']\n",
    "['פתח תקווה', 'פתח תקוה', 'G פתח תקווה','פתח תקווה','פתח ','פתח תקווהתקווה']\n",
    "['נהריה', 'נהרייה','רסקו']\n",
    "['ירשלים', 'ירושלים טלביה', 'ירושלים', 'ירושליים','ירושלים פסגת זאב מזרח','קרית הממשלה','פיסגת זאב', 'פסגת זאב', 'פיסגתזאב','קרית יובל ירושלים','תלפיות מזרח','הגבעה הצרפתית',' בית יעקב','הר חומה']\n",
    "['טירת הכרמל', 'טירת כרמ', 'טירת כרמלכרמל', 'טירת כרמל']\n",
    "['Bבאר שבע', 'באר שבע', 'באר ש']\n",
    "['רמת גן','ררמת גן','רמת גןנגבהמ','רמת גן ','G רמת גן','רמתגן','רמת יצחק',\"מרכז העיר ג'\",'מרכז העיר א','מרכז העיר ב','מרכז העיר']\n",
    "['נוף הגליל','נצרת עילית','נצרת עילית / נוף הגליל']\n",
    "['רמת אליהו','רמת הליאו']\n",
    "['קריית אתא','קרית אתא.','קרית את','קרית אתא','גבעת העליה']\n",
    "['חיפה','נאות פרס','חיפה הדר','חיפה אחוזה','jחיפה','רמב\"ם','תחנת רכבת השמונה ','ואדי סאליב']\n",
    "['ראש העין','פסגות אפק']\n",
    "['הרצליה','מרינה הרצליה ','הרצליה ','rרמת השרון /הרצליה']\n",
    "['אילת','מערב 1','מערב 2']\n",
    "['אלעד','אלעד ']\n",
    "['אשדוד','אשדוד,איזור ב',]\n",
    "['קירית ביאליק','קריית באליק','קריית ביאליק']\n",
    "['קרית מלאכי','אחוזת רוטנר']\n",
    "['פרדס חנה',' פרדס חנה - כרכור ','פרדס חנה כרכור']\n",
    "['טבריה',\"שיכון ד'\",\"שיכון ה'\",\" שיכון ג'\"]\n",
    "['כרמיאל','כרמיאל ']\n",
    "[' טירת הכרמל','טירת כרמ','טירת כרמל','טירת כרמלכרמל ']\n",
    "['יוקינעם','יוקנעם','יקנעם עילית']\n",
    "['אור ים','אור עקיבא','אור עקיבא ']\n",
    "['חריש','נחריש','קציר חריש']\n",
    "['אשקלון','אשקלון ','אשקלון.רמת האשכול']\n",
    "['גבעתיים','גבעתיים ']\n",
    "['רחובות','רחובות ']\n",
    "['חדרה','חדרה ','חדרה הצעירה','חטיבת הנחל חדרה']\n",
    "['בני ברק','בני ברק גבול רמת גן']\n",
    "['הדרים החדשה','כפר סבא','כפר סבא ']"
   ]
  },
  {
   "cell_type": "markdown",
   "metadata": {},
   "source": [
    "#### Handling out-liers\n"
   ]
  },
  {
   "cell_type": "code",
   "execution_count": 18,
   "metadata": {
    "pycharm": {
     "name": "#%%\n"
    }
   },
   "outputs": [
    {
     "data": {
      "text/plain": [
       "(8578, 18)"
      ]
     },
     "execution_count": 18,
     "metadata": {},
     "output_type": "execute_result"
    }
   ],
   "source": [
    "columns_list = ['Size', 'Price', 'Number of rooms']\n",
    "for col in columns_list:\n",
    "    q1 = np.percentile(df[col],25)\n",
    "    q3 = np.percentile(df[col],75)\n",
    "    iqr = q3-q1\n",
    "    df = df[(df[col] > q1-1.5*iqr) & (df[col] < q3+1.5*iqr)]\n",
    "\n",
    "df.shape"
   ]
  },
  {
   "cell_type": "code",
   "execution_count": null,
   "metadata": {
    "pycharm": {
     "name": "#%%\n"
    }
   },
   "outputs": [],
   "source": []
  },
  {
   "cell_type": "markdown",
   "metadata": {},
   "source": [
    "# Visualization"
   ]
  },
  {
   "cell_type": "markdown",
   "metadata": {},
   "source": [
    "#### Amount of records per each city"
   ]
  },
  {
   "cell_type": "code",
   "execution_count": 19,
   "metadata": {},
   "outputs": [
    {
     "data": {
      "text/plain": [
       "<AxesSubplot:ylabel='None'>"
      ]
     },
     "execution_count": 19,
     "metadata": {},
     "output_type": "execute_result"
    },
    {
     "data": {
      "image/png": "[encoded data removed]",
      "text/plain": [
       "<Figure size 432x288 with 1 Axes>"
      ]
     },
     "metadata": {},
     "output_type": "display_data"
    }
   ],
   "source": [
    "city_count = df['City'].value_counts()\n",
    "reverse_cities_names = []\n",
    "for name, value in city_count.items():\n",
    "    reverse_cities_names.append(name[::-1])\n",
    "flipped = pd.Series(city_count.values, index=reverse_cities_names)\n",
    "flipped.plot(kind='pie', radius=3)"
   ]
  },
  {
   "cell_type": "code",
   "execution_count": 20,
   "metadata": {
    "scrolled": true
   },
   "outputs": [
    {
     "data": {
      "text/plain": [
       "<AxesSubplot:>"
      ]
     },
     "execution_count": 20,
     "metadata": {},
     "output_type": "execute_result"
    },
    {
     "data": {
      "image/png": "[encoded data removed]",
      "text/plain": [
       "<Figure size 432x288 with 1 Axes>"
      ]
     },
     "metadata": {
      "needs_background": "light"
     },
     "output_type": "display_data"
    }
   ],
   "source": [
    "flipped.plot(kind='bar')"
   ]
  },
  {
   "cell_type": "markdown",
   "metadata": {},
   "source": [
    "# Machine learning"
   ]
  },
  {
   "cell_type": "markdown",
   "metadata": {},
   "source": [
    "#### Split label"
   ]
  },
  {
   "cell_type": "code",
   "execution_count": 21,
   "metadata": {},
   "outputs": [],
   "source": [
    "y = df['Price']\n",
    "X = df.drop(['Price'], axis=1)"
   ]
  },
  {
   "cell_type": "code",
   "execution_count": 22,
   "metadata": {},
   "outputs": [
    {
     "name": "stdout",
     "output_type": "stream",
     "text": [
      "            City Neighborhood   Size  Number of rooms  Floor number  \\\n",
      "0           חדרה   גבעת אולגה  127.0              4.0           5.0   \n",
      "1           חיפה         יל\"ג   65.0              3.5           1.0   \n",
      "2      רמות ספיר    שכונה י\"א   70.0              3.0           1.0   \n",
      "3       קרית אתא    מרכז העיר   70.0              3.0           1.0   \n",
      "4      מגדל העמק    רמת בלפור   80.0              3.5           3.0   \n",
      "...          ...          ...    ...              ...           ...   \n",
      "8055        אילת       צופית    36.0              2.0           7.0   \n",
      "8056  קרית מלאכי   כרמי הנדיב  150.0              5.0           1.0   \n",
      "8057     באר שבע            ג  135.0              5.0           1.0   \n",
      "8059       נהריה          עיר  115.0              4.0           0.0   \n",
      "8060        חדרה      עין הים  110.0              4.0           7.0   \n",
      "\n",
      "      Room mates  Furniture  Elevator  Air conditioner  Parking  Balcony  \\\n",
      "0              1          1         1                1        1      1.0   \n",
      "1              1          1         1                1        0      0.0   \n",
      "2              1          1         1                1        1      0.0   \n",
      "3              1          1         1                1        0      0.0   \n",
      "4              1          1         1                1        1      0.0   \n",
      "...          ...        ...       ...              ...      ...      ...   \n",
      "8055           0          1         1                1        1      0.0   \n",
      "8056           0          0         1                1        1      1.0   \n",
      "8057           1          0         1                1        1      1.0   \n",
      "8059           0          1         1                1        1      1.0   \n",
      "8060           0          1         1                1        1      1.0   \n",
      "\n",
      "      Bars  Shelter  Storeroom  Renovated  Boiler  Pets allowed  \n",
      "0        1        1          1          1       1             1  \n",
      "1        1        1          1          1       1             1  \n",
      "2        1        1          1          1       1             1  \n",
      "3        1        1          1          1       1             1  \n",
      "4        1        1          1          1       1             1  \n",
      "...    ...      ...        ...        ...     ...           ...  \n",
      "8055     0        0          0          1       1             0  \n",
      "8056     0        1          0          0       1             0  \n",
      "8057     0        1          1          0       1             1  \n",
      "8059     0        1          1          1       1             0  \n",
      "8060     0        1          0          1       1             0  \n",
      "\n",
      "[6862 rows x 17 columns]             City   Neighborhood   Size  Number of rooms  Floor number  \\\n",
      "8062      רחובות      מרכז העיר   72.0              3.0           2.0   \n",
      "8063      רחובות      מרכז העיר   72.0              3.0           2.0   \n",
      "8064       חולון        אגרובנק   70.0              3.0           3.0   \n",
      "8067       בת ים          ניצנה   50.0              2.0           2.0   \n",
      "8068   פתח תקווה          אחדות   70.0              3.0           0.0   \n",
      "...          ...            ...    ...              ...           ...   \n",
      "10735       חיפה    רוממה הישנה   95.0              4.0           0.0   \n",
      "10736    באר שבע              ד   85.0              3.0           8.0   \n",
      "10740  רמת השרון           גולן  110.0              4.0           2.0   \n",
      "10741    ירושלים           גילה   45.0              2.0           0.0   \n",
      "10742     הרצליה  הרצליה הצעירה  130.0              5.0           0.0   \n",
      "\n",
      "       Room mates  Furniture  Elevator  Air conditioner  Parking  Balcony  \\\n",
      "8062            0          0         0                1        1      0.0   \n",
      "8063            0          0         0                1        1      0.0   \n",
      "8064            1          0         0                1        1      1.0   \n",
      "8067            0          1         0                1        1      0.0   \n",
      "8068            0          0         0                1        1      0.0   \n",
      "...           ...        ...       ...              ...      ...      ...   \n",
      "10735           1          1         0                1        1      0.0   \n",
      "10736           1          1         1                1        1      1.0   \n",
      "10740           0          0         1                1        1      0.0   \n",
      "10741           0          0         0                0        1      0.0   \n",
      "10742           1          1         1                1        1      1.0   \n",
      "\n",
      "       Bars  Shelter  Storeroom  Renovated  Boiler  Pets allowed  \n",
      "8062      0        0          0          1       0             0  \n",
      "8063      0        0          0          1       0             0  \n",
      "8064      1        0          0          0       1             0  \n",
      "8067      1        0          0          1       1             0  \n",
      "8068      0        0          1          0       0             0  \n",
      "...     ...      ...        ...        ...     ...           ...  \n",
      "10735     1        0          0          1       0             0  \n",
      "10736     0        0          0          0       0             0  \n",
      "10740     0        0          0          0       0             0  \n",
      "10741     1        0          0          0       0             0  \n",
      "10742     1        0          0          0       0             0  \n",
      "\n",
      "[1716 rows x 17 columns] 0       4700.0\n",
      "1       2400.0\n",
      "2       2450.0\n",
      "3       2900.0\n",
      "4       2095.0\n",
      "         ...  \n",
      "8055    2800.0\n",
      "8056    4800.0\n",
      "8057    7000.0\n",
      "8059    4500.0\n",
      "8060    5500.0\n",
      "Name: Price, Length: 6862, dtype: float64 8062     4450.0\n",
      "8063     4450.0\n",
      "8064     4000.0\n",
      "8067     3700.0\n",
      "8068     3400.0\n",
      "          ...  \n",
      "10735    3400.0\n",
      "10736    4000.0\n",
      "10740    5700.0\n",
      "10741    2990.0\n",
      "10742    7000.0\n",
      "Name: Price, Length: 1716, dtype: float64\n"
     ]
    }
   ],
   "source": [
    "from sklearn.model_selection import train_test_split\n",
    "X_train, X_test, y_train, y_test = train_test_split(X, y, test_size=0.2, random_state=42, shuffle=False)\n",
    "print(X_train, X_test, y_train, y_test)"
   ]
  },
  {
   "cell_type": "markdown",
   "metadata": {},
   "source": [
    "#### Scailing"
   ]
  },
  {
   "cell_type": "code",
   "execution_count": 23,
   "metadata": {},
   "outputs": [],
   "source": [
    "def scale_features(X_train, scale_type):\n",
    "    if(scale_type == 'minmax'):\n",
    "         scaler=MinMaxScaler(feature_range=(0, 1))\n",
    "    else:\n",
    "        scaler=StandardScaler()\n",
    "    X_train_scaled = scaler.fit_transform(X_train)\n",
    "    return scaler, X_train_scaled"
   ]
  },
  {
   "cell_type": "code",
   "execution_count": 24,
   "metadata": {},
   "outputs": [
    {
     "name": "stdout",
     "output_type": "stream",
     "text": [
      "StandardScaler() [[ 1.79995405  0.858738    0.82425789 ...  0.28872071  0.22761526\n",
      "   0.39076351]\n",
      " [-0.5819274   0.26116573 -0.73872868 ...  0.28872071  0.22761526\n",
      "   0.39076351]\n",
      " [-0.38984019 -0.33640654 -0.73872868 ...  0.28872071  0.22761526\n",
      "   0.39076351]\n",
      " ...\n",
      " [ 2.1072936   2.05388253 -0.73872868 ... -3.46355484  0.22761526\n",
      "   0.39076351]\n",
      " [ 1.33894474  0.858738   -1.12947532 ...  0.28872071  0.22761526\n",
      "  -2.55909259]\n",
      " [ 1.14685752  0.858738    1.60575118 ...  0.28872071  0.22761526\n",
      "  -2.55909259]]\n"
     ]
    }
   ],
   "source": [
    "X_train2 = X_train.drop(['City','Neighborhood'], axis=1)\n",
    "minmax_scaler, X_train_minmax_scaled = scale_features(X_train2, 'minmax')\n",
    "standard_scaler, X_train_standard_scaled = scale_features(X_train2, 'standard')\n",
    "print(standard_scaler, X_train_standard_scaled)"
   ]
  },
  {
   "cell_type": "markdown",
   "metadata": {},
   "source": [
    "#### Complete the Scailing"
   ]
  },
  {
   "cell_type": "code",
   "execution_count": 25,
   "metadata": {},
   "outputs": [],
   "source": [
    "def scale_test_features(X_test, scaler):\n",
    "    return scaler.transform(X_test)"
   ]
  },
  {
   "cell_type": "code",
   "execution_count": 27,
   "metadata": {},
   "outputs": [
    {
     "name": "stdout",
     "output_type": "stream",
     "text": [
      "[[-0.3130053  -0.33640654 -0.34798204 ...  0.28872071 -4.39337856\n",
      "  -2.55909259]\n",
      " [-0.3130053  -0.33640654 -0.34798204 ...  0.28872071 -4.39337856\n",
      "  -2.55909259]\n",
      " [-0.38984019 -0.33640654  0.04276461 ... -3.46355484  0.22761526\n",
      "  -2.55909259]\n",
      " ...\n",
      " [ 1.14685752  0.858738   -0.34798204 ... -3.46355484 -4.39337856\n",
      "  -2.55909259]\n",
      " [-1.35027626 -1.53155108 -1.12947532 ... -3.46355484 -4.39337856\n",
      "  -2.55909259]\n",
      " [ 1.91520638  2.05388253 -1.12947532 ... -3.46355484 -4.39337856\n",
      "  -2.55909259]]\n"
     ]
    }
   ],
   "source": [
    "X_test2 = X_test.drop(['City','Neighborhood'], axis=1)\n",
    "X_test_minmax_scaled = scale_test_features(X_test2, minmax_scaler)\n",
    "X_test_standard_scaled = scale_test_features(X_test2, standard_scaler)\n",
    "print(X_test_standard_scaled)"
   ]
  },
  {
   "cell_type": "code",
   "execution_count": 33,
   "metadata": {},
   "outputs": [
    {
     "name": "stdout",
     "output_type": "stream",
     "text": [
      "False\n",
      "True\n"
     ]
    }
   ],
   "source": [
    "print(np.any(np.isnan(X_train2)))\n",
    "print(np.any(np.isfinite(X_train2)))"
   ]
  },
  {
   "cell_type": "code",
   "execution_count": 35,
   "metadata": {},
   "outputs": [
    {
     "name": "stdout",
     "output_type": "stream",
     "text": [
      "Int64Index([], dtype='int64')\n"
     ]
    }
   ],
   "source": [
    "r = X_train2.index[np.isinf(X_train2).any(1)]\n",
    "print(r)"
   ]
  },
  {
   "cell_type": "markdown",
   "metadata": {},
   "source": [
    "#### Train a classification model"
   ]
  },
  {
   "cell_type": "code",
   "execution_count": 28,
   "metadata": {},
   "outputs": [
    {
     "data": {
      "text/html": [
       "<div>\n",
       "<style scoped>\n",
       "    .dataframe tbody tr th:only-of-type {\n",
       "        vertical-align: middle;\n",
       "    }\n",
       "\n",
       "    .dataframe tbody tr th {\n",
       "        vertical-align: top;\n",
       "    }\n",
       "\n",
       "    .dataframe thead th {\n",
       "        text-align: right;\n",
       "    }\n",
       "</style>\n",
       "<table border=\"1\" class=\"dataframe\">\n",
       "  <thead>\n",
       "    <tr style=\"text-align: right;\">\n",
       "      <th></th>\n",
       "      <th>Size</th>\n",
       "      <th>Number of rooms</th>\n",
       "      <th>Floor number</th>\n",
       "      <th>Room mates</th>\n",
       "      <th>Furniture</th>\n",
       "      <th>Elevator</th>\n",
       "      <th>Air conditioner</th>\n",
       "      <th>Parking</th>\n",
       "      <th>Balcony</th>\n",
       "      <th>Bars</th>\n",
       "      <th>Shelter</th>\n",
       "      <th>Storeroom</th>\n",
       "      <th>Renovated</th>\n",
       "      <th>Boiler</th>\n",
       "      <th>Pets allowed</th>\n",
       "    </tr>\n",
       "  </thead>\n",
       "  <tbody>\n",
       "    <tr>\n",
       "      <th>count</th>\n",
       "      <td>6862.000000</td>\n",
       "      <td>6862.000000</td>\n",
       "      <td>6862.000000</td>\n",
       "      <td>6862.000000</td>\n",
       "      <td>6862.000000</td>\n",
       "      <td>6862.000000</td>\n",
       "      <td>6862.000000</td>\n",
       "      <td>6862.000000</td>\n",
       "      <td>6862.000000</td>\n",
       "      <td>6862.000000</td>\n",
       "      <td>6862.000000</td>\n",
       "      <td>6862.000000</td>\n",
       "      <td>6862.000000</td>\n",
       "      <td>6862.000000</td>\n",
       "      <td>6862.000000</td>\n",
       "    </tr>\n",
       "    <tr>\n",
       "      <th>mean</th>\n",
       "      <td>80.147479</td>\n",
       "      <td>3.281478</td>\n",
       "      <td>2.890557</td>\n",
       "      <td>0.867823</td>\n",
       "      <td>0.909939</td>\n",
       "      <td>0.892305</td>\n",
       "      <td>0.993879</td>\n",
       "      <td>0.531915</td>\n",
       "      <td>0.515885</td>\n",
       "      <td>0.882396</td>\n",
       "      <td>0.868843</td>\n",
       "      <td>0.863159</td>\n",
       "      <td>0.923055</td>\n",
       "      <td>0.950743</td>\n",
       "      <td>0.867531</td>\n",
       "    </tr>\n",
       "    <tr>\n",
       "      <th>std</th>\n",
       "      <td>26.031740</td>\n",
       "      <td>0.836780</td>\n",
       "      <td>2.559390</td>\n",
       "      <td>0.338708</td>\n",
       "      <td>0.286290</td>\n",
       "      <td>0.310017</td>\n",
       "      <td>0.078001</td>\n",
       "      <td>0.499017</td>\n",
       "      <td>0.626129</td>\n",
       "      <td>0.322162</td>\n",
       "      <td>0.337597</td>\n",
       "      <td>0.343704</td>\n",
       "      <td>0.266524</td>\n",
       "      <td>0.216419</td>\n",
       "      <td>0.339024</td>\n",
       "    </tr>\n",
       "    <tr>\n",
       "      <th>min</th>\n",
       "      <td>1.000000</td>\n",
       "      <td>2.000000</td>\n",
       "      <td>-1.000000</td>\n",
       "      <td>0.000000</td>\n",
       "      <td>0.000000</td>\n",
       "      <td>0.000000</td>\n",
       "      <td>0.000000</td>\n",
       "      <td>0.000000</td>\n",
       "      <td>0.000000</td>\n",
       "      <td>0.000000</td>\n",
       "      <td>0.000000</td>\n",
       "      <td>0.000000</td>\n",
       "      <td>0.000000</td>\n",
       "      <td>0.000000</td>\n",
       "      <td>0.000000</td>\n",
       "    </tr>\n",
       "    <tr>\n",
       "      <th>25%</th>\n",
       "      <td>60.000000</td>\n",
       "      <td>3.000000</td>\n",
       "      <td>1.000000</td>\n",
       "      <td>1.000000</td>\n",
       "      <td>1.000000</td>\n",
       "      <td>1.000000</td>\n",
       "      <td>1.000000</td>\n",
       "      <td>0.000000</td>\n",
       "      <td>0.000000</td>\n",
       "      <td>1.000000</td>\n",
       "      <td>1.000000</td>\n",
       "      <td>1.000000</td>\n",
       "      <td>1.000000</td>\n",
       "      <td>1.000000</td>\n",
       "      <td>1.000000</td>\n",
       "    </tr>\n",
       "    <tr>\n",
       "      <th>50%</th>\n",
       "      <td>75.000000</td>\n",
       "      <td>3.000000</td>\n",
       "      <td>2.000000</td>\n",
       "      <td>1.000000</td>\n",
       "      <td>1.000000</td>\n",
       "      <td>1.000000</td>\n",
       "      <td>1.000000</td>\n",
       "      <td>1.000000</td>\n",
       "      <td>0.000000</td>\n",
       "      <td>1.000000</td>\n",
       "      <td>1.000000</td>\n",
       "      <td>1.000000</td>\n",
       "      <td>1.000000</td>\n",
       "      <td>1.000000</td>\n",
       "      <td>1.000000</td>\n",
       "    </tr>\n",
       "    <tr>\n",
       "      <th>75%</th>\n",
       "      <td>100.000000</td>\n",
       "      <td>4.000000</td>\n",
       "      <td>3.000000</td>\n",
       "      <td>1.000000</td>\n",
       "      <td>1.000000</td>\n",
       "      <td>1.000000</td>\n",
       "      <td>1.000000</td>\n",
       "      <td>1.000000</td>\n",
       "      <td>1.000000</td>\n",
       "      <td>1.000000</td>\n",
       "      <td>1.000000</td>\n",
       "      <td>1.000000</td>\n",
       "      <td>1.000000</td>\n",
       "      <td>1.000000</td>\n",
       "      <td>1.000000</td>\n",
       "    </tr>\n",
       "    <tr>\n",
       "      <th>max</th>\n",
       "      <td>159.000000</td>\n",
       "      <td>5.000000</td>\n",
       "      <td>34.000000</td>\n",
       "      <td>1.000000</td>\n",
       "      <td>1.000000</td>\n",
       "      <td>1.000000</td>\n",
       "      <td>1.000000</td>\n",
       "      <td>1.000000</td>\n",
       "      <td>3.000000</td>\n",
       "      <td>1.000000</td>\n",
       "      <td>1.000000</td>\n",
       "      <td>1.000000</td>\n",
       "      <td>1.000000</td>\n",
       "      <td>1.000000</td>\n",
       "      <td>1.000000</td>\n",
       "    </tr>\n",
       "  </tbody>\n",
       "</table>\n",
       "</div>"
      ],
      "text/plain": [
       "              Size  Number of rooms  Floor number   Room mates    Furniture  \\\n",
       "count  6862.000000      6862.000000   6862.000000  6862.000000  6862.000000   \n",
       "mean     80.147479         3.281478      2.890557     0.867823     0.909939   \n",
       "std      26.031740         0.836780      2.559390     0.338708     0.286290   \n",
       "min       1.000000         2.000000     -1.000000     0.000000     0.000000   \n",
       "25%      60.000000         3.000000      1.000000     1.000000     1.000000   \n",
       "50%      75.000000         3.000000      2.000000     1.000000     1.000000   \n",
       "75%     100.000000         4.000000      3.000000     1.000000     1.000000   \n",
       "max     159.000000         5.000000     34.000000     1.000000     1.000000   \n",
       "\n",
       "          Elevator  Air conditioner      Parking      Balcony         Bars  \\\n",
       "count  6862.000000      6862.000000  6862.000000  6862.000000  6862.000000   \n",
       "mean      0.892305         0.993879     0.531915     0.515885     0.882396   \n",
       "std       0.310017         0.078001     0.499017     0.626129     0.322162   \n",
       "min       0.000000         0.000000     0.000000     0.000000     0.000000   \n",
       "25%       1.000000         1.000000     0.000000     0.000000     1.000000   \n",
       "50%       1.000000         1.000000     1.000000     0.000000     1.000000   \n",
       "75%       1.000000         1.000000     1.000000     1.000000     1.000000   \n",
       "max       1.000000         1.000000     1.000000     3.000000     1.000000   \n",
       "\n",
       "           Shelter    Storeroom    Renovated       Boiler  Pets allowed  \n",
       "count  6862.000000  6862.000000  6862.000000  6862.000000   6862.000000  \n",
       "mean      0.868843     0.863159     0.923055     0.950743      0.867531  \n",
       "std       0.337597     0.343704     0.266524     0.216419      0.339024  \n",
       "min       0.000000     0.000000     0.000000     0.000000      0.000000  \n",
       "25%       1.000000     1.000000     1.000000     1.000000      1.000000  \n",
       "50%       1.000000     1.000000     1.000000     1.000000      1.000000  \n",
       "75%       1.000000     1.000000     1.000000     1.000000      1.000000  \n",
       "max       1.000000     1.000000     1.000000     1.000000      1.000000  "
      ]
     },
     "execution_count": 28,
     "metadata": {},
     "output_type": "execute_result"
    }
   ],
   "source": [
    "X_train2.describe()"
   ]
  },
  {
   "cell_type": "code",
   "execution_count": 29,
   "metadata": {},
   "outputs": [
    {
     "data": {
      "text/html": [
       "<div>\n",
       "<style scoped>\n",
       "    .dataframe tbody tr th:only-of-type {\n",
       "        vertical-align: middle;\n",
       "    }\n",
       "\n",
       "    .dataframe tbody tr th {\n",
       "        vertical-align: top;\n",
       "    }\n",
       "\n",
       "    .dataframe thead th {\n",
       "        text-align: right;\n",
       "    }\n",
       "</style>\n",
       "<table border=\"1\" class=\"dataframe\">\n",
       "  <thead>\n",
       "    <tr style=\"text-align: right;\">\n",
       "      <th></th>\n",
       "      <th>Size</th>\n",
       "      <th>Number of rooms</th>\n",
       "      <th>Floor number</th>\n",
       "      <th>Room mates</th>\n",
       "      <th>Furniture</th>\n",
       "      <th>Elevator</th>\n",
       "      <th>Air conditioner</th>\n",
       "      <th>Parking</th>\n",
       "      <th>Balcony</th>\n",
       "      <th>Bars</th>\n",
       "      <th>Shelter</th>\n",
       "      <th>Storeroom</th>\n",
       "      <th>Renovated</th>\n",
       "      <th>Boiler</th>\n",
       "      <th>Pets allowed</th>\n",
       "    </tr>\n",
       "  </thead>\n",
       "  <tbody>\n",
       "    <tr>\n",
       "      <th>0</th>\n",
       "      <td>True</td>\n",
       "      <td>True</td>\n",
       "      <td>True</td>\n",
       "      <td>True</td>\n",
       "      <td>True</td>\n",
       "      <td>True</td>\n",
       "      <td>True</td>\n",
       "      <td>True</td>\n",
       "      <td>True</td>\n",
       "      <td>True</td>\n",
       "      <td>True</td>\n",
       "      <td>True</td>\n",
       "      <td>True</td>\n",
       "      <td>True</td>\n",
       "      <td>True</td>\n",
       "    </tr>\n",
       "    <tr>\n",
       "      <th>1</th>\n",
       "      <td>True</td>\n",
       "      <td>True</td>\n",
       "      <td>True</td>\n",
       "      <td>True</td>\n",
       "      <td>True</td>\n",
       "      <td>True</td>\n",
       "      <td>True</td>\n",
       "      <td>True</td>\n",
       "      <td>True</td>\n",
       "      <td>True</td>\n",
       "      <td>True</td>\n",
       "      <td>True</td>\n",
       "      <td>True</td>\n",
       "      <td>True</td>\n",
       "      <td>True</td>\n",
       "    </tr>\n",
       "    <tr>\n",
       "      <th>2</th>\n",
       "      <td>True</td>\n",
       "      <td>True</td>\n",
       "      <td>True</td>\n",
       "      <td>True</td>\n",
       "      <td>True</td>\n",
       "      <td>True</td>\n",
       "      <td>True</td>\n",
       "      <td>True</td>\n",
       "      <td>True</td>\n",
       "      <td>True</td>\n",
       "      <td>True</td>\n",
       "      <td>True</td>\n",
       "      <td>True</td>\n",
       "      <td>True</td>\n",
       "      <td>True</td>\n",
       "    </tr>\n",
       "    <tr>\n",
       "      <th>3</th>\n",
       "      <td>True</td>\n",
       "      <td>True</td>\n",
       "      <td>True</td>\n",
       "      <td>True</td>\n",
       "      <td>True</td>\n",
       "      <td>True</td>\n",
       "      <td>True</td>\n",
       "      <td>True</td>\n",
       "      <td>True</td>\n",
       "      <td>True</td>\n",
       "      <td>True</td>\n",
       "      <td>True</td>\n",
       "      <td>True</td>\n",
       "      <td>True</td>\n",
       "      <td>True</td>\n",
       "    </tr>\n",
       "    <tr>\n",
       "      <th>4</th>\n",
       "      <td>True</td>\n",
       "      <td>True</td>\n",
       "      <td>True</td>\n",
       "      <td>True</td>\n",
       "      <td>True</td>\n",
       "      <td>True</td>\n",
       "      <td>True</td>\n",
       "      <td>True</td>\n",
       "      <td>True</td>\n",
       "      <td>True</td>\n",
       "      <td>True</td>\n",
       "      <td>True</td>\n",
       "      <td>True</td>\n",
       "      <td>True</td>\n",
       "      <td>True</td>\n",
       "    </tr>\n",
       "    <tr>\n",
       "      <th>...</th>\n",
       "      <td>...</td>\n",
       "      <td>...</td>\n",
       "      <td>...</td>\n",
       "      <td>...</td>\n",
       "      <td>...</td>\n",
       "      <td>...</td>\n",
       "      <td>...</td>\n",
       "      <td>...</td>\n",
       "      <td>...</td>\n",
       "      <td>...</td>\n",
       "      <td>...</td>\n",
       "      <td>...</td>\n",
       "      <td>...</td>\n",
       "      <td>...</td>\n",
       "      <td>...</td>\n",
       "    </tr>\n",
       "    <tr>\n",
       "      <th>8055</th>\n",
       "      <td>True</td>\n",
       "      <td>True</td>\n",
       "      <td>True</td>\n",
       "      <td>True</td>\n",
       "      <td>True</td>\n",
       "      <td>True</td>\n",
       "      <td>True</td>\n",
       "      <td>True</td>\n",
       "      <td>True</td>\n",
       "      <td>True</td>\n",
       "      <td>True</td>\n",
       "      <td>True</td>\n",
       "      <td>True</td>\n",
       "      <td>True</td>\n",
       "      <td>True</td>\n",
       "    </tr>\n",
       "    <tr>\n",
       "      <th>8056</th>\n",
       "      <td>True</td>\n",
       "      <td>True</td>\n",
       "      <td>True</td>\n",
       "      <td>True</td>\n",
       "      <td>True</td>\n",
       "      <td>True</td>\n",
       "      <td>True</td>\n",
       "      <td>True</td>\n",
       "      <td>True</td>\n",
       "      <td>True</td>\n",
       "      <td>True</td>\n",
       "      <td>True</td>\n",
       "      <td>True</td>\n",
       "      <td>True</td>\n",
       "      <td>True</td>\n",
       "    </tr>\n",
       "    <tr>\n",
       "      <th>8057</th>\n",
       "      <td>True</td>\n",
       "      <td>True</td>\n",
       "      <td>True</td>\n",
       "      <td>True</td>\n",
       "      <td>True</td>\n",
       "      <td>True</td>\n",
       "      <td>True</td>\n",
       "      <td>True</td>\n",
       "      <td>True</td>\n",
       "      <td>True</td>\n",
       "      <td>True</td>\n",
       "      <td>True</td>\n",
       "      <td>True</td>\n",
       "      <td>True</td>\n",
       "      <td>True</td>\n",
       "    </tr>\n",
       "    <tr>\n",
       "      <th>8059</th>\n",
       "      <td>True</td>\n",
       "      <td>True</td>\n",
       "      <td>True</td>\n",
       "      <td>True</td>\n",
       "      <td>True</td>\n",
       "      <td>True</td>\n",
       "      <td>True</td>\n",
       "      <td>True</td>\n",
       "      <td>True</td>\n",
       "      <td>True</td>\n",
       "      <td>True</td>\n",
       "      <td>True</td>\n",
       "      <td>True</td>\n",
       "      <td>True</td>\n",
       "      <td>True</td>\n",
       "    </tr>\n",
       "    <tr>\n",
       "      <th>8060</th>\n",
       "      <td>True</td>\n",
       "      <td>True</td>\n",
       "      <td>True</td>\n",
       "      <td>True</td>\n",
       "      <td>True</td>\n",
       "      <td>True</td>\n",
       "      <td>True</td>\n",
       "      <td>True</td>\n",
       "      <td>True</td>\n",
       "      <td>True</td>\n",
       "      <td>True</td>\n",
       "      <td>True</td>\n",
       "      <td>True</td>\n",
       "      <td>True</td>\n",
       "      <td>True</td>\n",
       "    </tr>\n",
       "  </tbody>\n",
       "</table>\n",
       "<p>6862 rows × 15 columns</p>\n",
       "</div>"
      ],
      "text/plain": [
       "      Size  Number of rooms  Floor number  Room mates  Furniture  Elevator  \\\n",
       "0     True             True          True        True       True      True   \n",
       "1     True             True          True        True       True      True   \n",
       "2     True             True          True        True       True      True   \n",
       "3     True             True          True        True       True      True   \n",
       "4     True             True          True        True       True      True   \n",
       "...    ...              ...           ...         ...        ...       ...   \n",
       "8055  True             True          True        True       True      True   \n",
       "8056  True             True          True        True       True      True   \n",
       "8057  True             True          True        True       True      True   \n",
       "8059  True             True          True        True       True      True   \n",
       "8060  True             True          True        True       True      True   \n",
       "\n",
       "      Air conditioner  Parking  Balcony  Bars  Shelter  Storeroom  Renovated  \\\n",
       "0                True     True     True  True     True       True       True   \n",
       "1                True     True     True  True     True       True       True   \n",
       "2                True     True     True  True     True       True       True   \n",
       "3                True     True     True  True     True       True       True   \n",
       "4                True     True     True  True     True       True       True   \n",
       "...               ...      ...      ...   ...      ...        ...        ...   \n",
       "8055             True     True     True  True     True       True       True   \n",
       "8056             True     True     True  True     True       True       True   \n",
       "8057             True     True     True  True     True       True       True   \n",
       "8059             True     True     True  True     True       True       True   \n",
       "8060             True     True     True  True     True       True       True   \n",
       "\n",
       "      Boiler  Pets allowed  \n",
       "0       True          True  \n",
       "1       True          True  \n",
       "2       True          True  \n",
       "3       True          True  \n",
       "4       True          True  \n",
       "...      ...           ...  \n",
       "8055    True          True  \n",
       "8056    True          True  \n",
       "8057    True          True  \n",
       "8059    True          True  \n",
       "8060    True          True  \n",
       "\n",
       "[6862 rows x 15 columns]"
      ]
     },
     "execution_count": 29,
     "metadata": {},
     "output_type": "execute_result"
    }
   ],
   "source": [
    "np.isfinite(X_train2)"
   ]
  },
  {
   "cell_type": "code",
   "execution_count": 30,
   "metadata": {},
   "outputs": [
    {
     "data": {
      "text/html": [
       "<div>\n",
       "<style scoped>\n",
       "    .dataframe tbody tr th:only-of-type {\n",
       "        vertical-align: middle;\n",
       "    }\n",
       "\n",
       "    .dataframe tbody tr th {\n",
       "        vertical-align: top;\n",
       "    }\n",
       "\n",
       "    .dataframe thead th {\n",
       "        text-align: right;\n",
       "    }\n",
       "</style>\n",
       "<table border=\"1\" class=\"dataframe\">\n",
       "  <thead>\n",
       "    <tr style=\"text-align: right;\">\n",
       "      <th></th>\n",
       "      <th>Size</th>\n",
       "      <th>Number of rooms</th>\n",
       "      <th>Floor number</th>\n",
       "      <th>Room mates</th>\n",
       "      <th>Furniture</th>\n",
       "      <th>Elevator</th>\n",
       "      <th>Air conditioner</th>\n",
       "      <th>Parking</th>\n",
       "      <th>Balcony</th>\n",
       "      <th>Bars</th>\n",
       "      <th>Shelter</th>\n",
       "      <th>Storeroom</th>\n",
       "      <th>Renovated</th>\n",
       "      <th>Boiler</th>\n",
       "      <th>Pets allowed</th>\n",
       "    </tr>\n",
       "  </thead>\n",
       "  <tbody>\n",
       "    <tr>\n",
       "      <th>0</th>\n",
       "      <td>127.0</td>\n",
       "      <td>4.0</td>\n",
       "      <td>5.0</td>\n",
       "      <td>1</td>\n",
       "      <td>1</td>\n",
       "      <td>1</td>\n",
       "      <td>1</td>\n",
       "      <td>1</td>\n",
       "      <td>1.0</td>\n",
       "      <td>1</td>\n",
       "      <td>1</td>\n",
       "      <td>1</td>\n",
       "      <td>1</td>\n",
       "      <td>1</td>\n",
       "      <td>1</td>\n",
       "    </tr>\n",
       "    <tr>\n",
       "      <th>1</th>\n",
       "      <td>65.0</td>\n",
       "      <td>3.5</td>\n",
       "      <td>1.0</td>\n",
       "      <td>1</td>\n",
       "      <td>1</td>\n",
       "      <td>1</td>\n",
       "      <td>1</td>\n",
       "      <td>0</td>\n",
       "      <td>0.0</td>\n",
       "      <td>1</td>\n",
       "      <td>1</td>\n",
       "      <td>1</td>\n",
       "      <td>1</td>\n",
       "      <td>1</td>\n",
       "      <td>1</td>\n",
       "    </tr>\n",
       "    <tr>\n",
       "      <th>2</th>\n",
       "      <td>70.0</td>\n",
       "      <td>3.0</td>\n",
       "      <td>1.0</td>\n",
       "      <td>1</td>\n",
       "      <td>1</td>\n",
       "      <td>1</td>\n",
       "      <td>1</td>\n",
       "      <td>1</td>\n",
       "      <td>0.0</td>\n",
       "      <td>1</td>\n",
       "      <td>1</td>\n",
       "      <td>1</td>\n",
       "      <td>1</td>\n",
       "      <td>1</td>\n",
       "      <td>1</td>\n",
       "    </tr>\n",
       "    <tr>\n",
       "      <th>3</th>\n",
       "      <td>70.0</td>\n",
       "      <td>3.0</td>\n",
       "      <td>1.0</td>\n",
       "      <td>1</td>\n",
       "      <td>1</td>\n",
       "      <td>1</td>\n",
       "      <td>1</td>\n",
       "      <td>0</td>\n",
       "      <td>0.0</td>\n",
       "      <td>1</td>\n",
       "      <td>1</td>\n",
       "      <td>1</td>\n",
       "      <td>1</td>\n",
       "      <td>1</td>\n",
       "      <td>1</td>\n",
       "    </tr>\n",
       "    <tr>\n",
       "      <th>4</th>\n",
       "      <td>80.0</td>\n",
       "      <td>3.5</td>\n",
       "      <td>3.0</td>\n",
       "      <td>1</td>\n",
       "      <td>1</td>\n",
       "      <td>1</td>\n",
       "      <td>1</td>\n",
       "      <td>1</td>\n",
       "      <td>0.0</td>\n",
       "      <td>1</td>\n",
       "      <td>1</td>\n",
       "      <td>1</td>\n",
       "      <td>1</td>\n",
       "      <td>1</td>\n",
       "      <td>1</td>\n",
       "    </tr>\n",
       "  </tbody>\n",
       "</table>\n",
       "</div>"
      ],
      "text/plain": [
       "    Size  Number of rooms  Floor number  Room mates  Furniture  Elevator  \\\n",
       "0  127.0              4.0           5.0           1          1         1   \n",
       "1   65.0              3.5           1.0           1          1         1   \n",
       "2   70.0              3.0           1.0           1          1         1   \n",
       "3   70.0              3.0           1.0           1          1         1   \n",
       "4   80.0              3.5           3.0           1          1         1   \n",
       "\n",
       "   Air conditioner  Parking  Balcony  Bars  Shelter  Storeroom  Renovated  \\\n",
       "0                1        1      1.0     1        1          1          1   \n",
       "1                1        0      0.0     1        1          1          1   \n",
       "2                1        1      0.0     1        1          1          1   \n",
       "3                1        0      0.0     1        1          1          1   \n",
       "4                1        1      0.0     1        1          1          1   \n",
       "\n",
       "   Boiler  Pets allowed  \n",
       "0       1             1  \n",
       "1       1             1  \n",
       "2       1             1  \n",
       "3       1             1  \n",
       "4       1             1  "
      ]
     },
     "execution_count": 30,
     "metadata": {},
     "output_type": "execute_result"
    }
   ],
   "source": [
    "X_train2.head()"
   ]
  },
  {
   "cell_type": "code",
   "execution_count": null,
   "metadata": {},
   "outputs": [],
   "source": [
    "X_train2.replace([np.inf, -np.inf], np.nan, inplace=True)\n",
    "\n",
    "X_train2 = np.nan_to_num(X_train2)"
   ]
  },
  {
   "cell_type": "code",
   "execution_count": null,
   "metadata": {},
   "outputs": [],
   "source": [
    "print(np.any(np.isnan(X_train2)))\n",
    "print(np.any(np.isfinite(X_train2)))"
   ]
  },
  {
   "cell_type": "code",
   "execution_count": 36,
   "metadata": {},
   "outputs": [],
   "source": [
    "def train_classifier(X_train, y_train):\n",
    "    return LinearRegression().fit(X_train, y_train)"
   ]
  },
  {
   "cell_type": "code",
   "execution_count": 37,
   "metadata": {},
   "outputs": [
    {
     "name": "stdout",
     "output_type": "stream",
     "text": [
      "<class 'sklearn.linear_model._base.LinearRegression'>\n"
     ]
    }
   ],
   "source": [
    "classification_model = train_classifier(X_train2, y_train)\n",
    "classification_minmax_model = train_classifier(X_train_minmax_scaled, y_train)\n",
    "classification_standard_model = train_classifier(X_train_standard_scaled, y_train)\n",
    "print(type(classification_model))"
   ]
  },
  {
   "cell_type": "markdown",
   "metadata": {},
   "source": [
    "#### Predict"
   ]
  },
  {
   "cell_type": "code",
   "execution_count": 42,
   "metadata": {},
   "outputs": [],
   "source": [
    "from sklearn.metrics import accuracy_score\n",
    "from sklearn.metrics import plot_confusion_matrix\n",
    "from sklearn.metrics import classification_report"
   ]
  },
  {
   "cell_type": "code",
   "execution_count": 43,
   "metadata": {},
   "outputs": [],
   "source": [
    "def predict(classifier, X_test, y_test):\n",
    "    return pd.DataFrame({\"Actual\":y_test,\"Predicted\":classifier.predict(X_test)})\n",
    "    "
   ]
  },
  {
   "cell_type": "code",
   "execution_count": 44,
   "metadata": {},
   "outputs": [
    {
     "name": "stdout",
     "output_type": "stream",
     "text": [
      "       Actual    Predicted\n",
      "8062   4450.0  3801.609550\n",
      "8063   4450.0  3801.609550\n",
      "8064   4000.0  3801.550597\n",
      "8067   3700.0  2782.220053\n",
      "8068   3400.0  3218.027592\n",
      "...       ...          ...\n",
      "10735  3400.0  4134.098929\n",
      "10736  4000.0  4533.761555\n",
      "10740  5700.0  4953.362977\n",
      "10741  2990.0  2966.041940\n",
      "10742  7000.0  5478.516837\n",
      "\n",
      "[1716 rows x 2 columns]\n"
     ]
    }
   ],
   "source": [
    "df_res = predict(classification_model, X_test2, y_test)\n",
    "df_minmax_res = predict(classification_minmax_model, X_test_minmax_scaled, y_test)\n",
    "df_standard_res = predict(classification_standard_model, X_test_standard_scaled, y_test)\n",
    "print(df_res)"
   ]
  },
  {
   "cell_type": "code",
   "execution_count": 49,
   "metadata": {},
   "outputs": [],
   "source": [
    "from sklearn import linear_model, metrics, preprocessing\n",
    "from sklearn.metrics import r2_score, f1_score"
   ]
  },
  {
   "cell_type": "code",
   "execution_count": 54,
   "metadata": {},
   "outputs": [],
   "source": [
    "def train_model(X_train, y_train):\n",
    "    model=LinearRegression()\n",
    "    model.fit(X_train,y_train)\n",
    "    return model"
   ]
  },
  {
   "cell_type": "code",
   "execution_count": 55,
   "metadata": {},
   "outputs": [],
   "source": [
    "def predict_us(trained_model, X_test):\n",
    "    vals = trained_model.predict(X_test)\n",
    "    return vals"
   ]
  },
  {
   "cell_type": "code",
   "execution_count": 56,
   "metadata": {},
   "outputs": [],
   "source": [
    "def evaluate_performance(y_test,y_predicted):\n",
    "    value = metrics.r2_score(y_test,y_predicted)\n",
    "    return value"
   ]
  },
  {
   "cell_type": "code",
   "execution_count": 57,
   "metadata": {},
   "outputs": [],
   "source": [
    "trained_model = train_model(X_train2, y_train)\n",
    "pred_vals = predict_us(trained_model, X_test2)\n",
    "y_pred= pd.Series(pred_vals,index=X_test2.index)\n",
    "eval_res = evaluate_performance(y_test, y_pred)"
   ]
  },
  {
   "cell_type": "code",
   "execution_count": 58,
   "metadata": {},
   "outputs": [
    {
     "name": "stdout",
     "output_type": "stream",
     "text": [
      "0.19219200700966954\n"
     ]
    }
   ],
   "source": [
    "print(eval_res)"
   ]
  },
  {
   "cell_type": "code",
   "execution_count": 59,
   "metadata": {},
   "outputs": [
    {
     "name": "stdout",
     "output_type": "stream",
     "text": [
      "[3801.60955022 3801.60955022 3801.55059722 ... 4953.36297693 2966.04193976\n",
      " 5478.51683657]\n"
     ]
    }
   ],
   "source": [
    "print(pred_vals)"
   ]
  },
  {
   "cell_type": "code",
   "execution_count": 61,
   "metadata": {},
   "outputs": [
    {
     "name": "stdout",
     "output_type": "stream",
     "text": [
      "0.192\n"
     ]
    }
   ],
   "source": [
    "print(np.round(eval_res,3))"
   ]
  },
  {
   "cell_type": "code",
   "execution_count": null,
   "metadata": {},
   "outputs": [],
   "source": []
  }
 ],
 "metadata": {
  "interpreter": {
   "hash": "149d9d322101756c08e60260c844c5b0db4b92efb3fff858aa7e90c82cd2b80a"
  },
  "kernelspec": {
   "display_name": "Python 3",
   "language": "python",
   "name": "python3"
  },
  "language_info": {
   "codemirror_mode": {
    "name": "ipython",
    "version": 3
   },
   "file_extension": ".py",
   "mimetype": "text/x-python",
   "name": "python",
   "nbconvert_exporter": "python",
   "pygments_lexer": "ipython3",
   "version": "3.8.8"
  }
 },
 "nbformat": 4,
 "nbformat_minor": 2
}
