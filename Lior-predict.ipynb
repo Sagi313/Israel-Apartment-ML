{
 "cells": [
  {
   "cell_type": "code",
   "execution_count": 258,
   "metadata": {},
   "outputs": [],
   "source": [
    "import pandas as pd\n",
    "import matplotlib as mpl\n",
    "import numpy as np\n",
    "\n",
    "import os\n",
    "import sklearn\n",
    "from sklearn import preprocessing, linear_model, model_selection\n",
    "from sklearn.preprocessing import StandardScaler, MinMaxScaler\n",
    "from sklearn.linear_model import LinearRegression\n",
    "from sklearn.model_selection import train_test_split"
   ]
  },
  {
   "cell_type": "code",
   "execution_count": 259,
   "metadata": {},
   "outputs": [],
   "source": [
    "def read_csv(file_name):\n",
    "    return pd.read_csv(file_name)"
   ]
  },
  {
   "cell_type": "markdown",
   "metadata": {},
   "source": [
    "# Data Cleaning\n",
    "\n",
    "## Yad2.co.il Data\n",
    "Inorder to acquire larger amount of data, we used 2 data source. In this section we will only handle the Yad2.co.il data, which we scrapped using our selenium crawler.\n",
    "We will first load the CSV file into a Data Frame and take a quick look at it."
   ]
  },
  {
   "cell_type": "code",
   "execution_count": 260,
   "metadata": {
    "pycharm": {
     "name": "#%%\n"
    }
   },
   "outputs": [
    {
     "data": {
      "text/plain": "  Post link       City Neighborhood  Size  Number of rooms  Floor number  \\\n0  dks8vn48       חדרה   גבעת אולגה   127              4.0           5.0   \n1  jmjfaz37       חיפה         יל\"ג    65              3.5           1.0   \n2  iphkc13r  רמות ספיר    שכונה י\"א    70              3.0           1.0   \n3  9chmff31   קרית אתא    מרכז העיר    70              3.0           1.0   \n4  yp7la93q  מגדל העמק    רמת בלפור    80              3.5           3.0   \n\n   Taxes   Price  Room mates  Furniture  Elevator  Air conditioner  Parking  \\\n0  980.0  4700.0           1          1         1                1        1   \n1    NaN  2400.0           1          1         1                1        0   \n2  400.0  2450.0           1          1         1                1        1   \n3  500.0  2900.0           1          1         1                1        0   \n4  512.0  2095.0           1          1         1                1        1   \n\n   Balcony  Bars  Shelter  Storeroom  Renovated  Boiler  Pets allowed  \n0      1.0     1        1          1          1       1             1  \n1      NaN     1        1          1          1       1             1  \n2      NaN     1        1          1          1       1             1  \n3      NaN     1        1          1          1       1             1  \n4      NaN     1        1          1          1       1             1  ",
      "text/html": "<div>\n<style scoped>\n    .dataframe tbody tr th:only-of-type {\n        vertical-align: middle;\n    }\n\n    .dataframe tbody tr th {\n        vertical-align: top;\n    }\n\n    .dataframe thead th {\n        text-align: right;\n    }\n</style>\n<table border=\"1\" class=\"dataframe\">\n  <thead>\n    <tr style=\"text-align: right;\">\n      <th></th>\n      <th>Post link</th>\n      <th>City</th>\n      <th>Neighborhood</th>\n      <th>Size</th>\n      <th>Number of rooms</th>\n      <th>Floor number</th>\n      <th>Taxes</th>\n      <th>Price</th>\n      <th>Room mates</th>\n      <th>Furniture</th>\n      <th>Elevator</th>\n      <th>Air conditioner</th>\n      <th>Parking</th>\n      <th>Balcony</th>\n      <th>Bars</th>\n      <th>Shelter</th>\n      <th>Storeroom</th>\n      <th>Renovated</th>\n      <th>Boiler</th>\n      <th>Pets allowed</th>\n    </tr>\n  </thead>\n  <tbody>\n    <tr>\n      <th>0</th>\n      <td>dks8vn48</td>\n      <td>חדרה</td>\n      <td>גבעת אולגה</td>\n      <td>127</td>\n      <td>4.0</td>\n      <td>5.0</td>\n      <td>980.0</td>\n      <td>4700.0</td>\n      <td>1</td>\n      <td>1</td>\n      <td>1</td>\n      <td>1</td>\n      <td>1</td>\n      <td>1.0</td>\n      <td>1</td>\n      <td>1</td>\n      <td>1</td>\n      <td>1</td>\n      <td>1</td>\n      <td>1</td>\n    </tr>\n    <tr>\n      <th>1</th>\n      <td>jmjfaz37</td>\n      <td>חיפה</td>\n      <td>יל\"ג</td>\n      <td>65</td>\n      <td>3.5</td>\n      <td>1.0</td>\n      <td>NaN</td>\n      <td>2400.0</td>\n      <td>1</td>\n      <td>1</td>\n      <td>1</td>\n      <td>1</td>\n      <td>0</td>\n      <td>NaN</td>\n      <td>1</td>\n      <td>1</td>\n      <td>1</td>\n      <td>1</td>\n      <td>1</td>\n      <td>1</td>\n    </tr>\n    <tr>\n      <th>2</th>\n      <td>iphkc13r</td>\n      <td>רמות ספיר</td>\n      <td>שכונה י\"א</td>\n      <td>70</td>\n      <td>3.0</td>\n      <td>1.0</td>\n      <td>400.0</td>\n      <td>2450.0</td>\n      <td>1</td>\n      <td>1</td>\n      <td>1</td>\n      <td>1</td>\n      <td>1</td>\n      <td>NaN</td>\n      <td>1</td>\n      <td>1</td>\n      <td>1</td>\n      <td>1</td>\n      <td>1</td>\n      <td>1</td>\n    </tr>\n    <tr>\n      <th>3</th>\n      <td>9chmff31</td>\n      <td>קרית אתא</td>\n      <td>מרכז העיר</td>\n      <td>70</td>\n      <td>3.0</td>\n      <td>1.0</td>\n      <td>500.0</td>\n      <td>2900.0</td>\n      <td>1</td>\n      <td>1</td>\n      <td>1</td>\n      <td>1</td>\n      <td>0</td>\n      <td>NaN</td>\n      <td>1</td>\n      <td>1</td>\n      <td>1</td>\n      <td>1</td>\n      <td>1</td>\n      <td>1</td>\n    </tr>\n    <tr>\n      <th>4</th>\n      <td>yp7la93q</td>\n      <td>מגדל העמק</td>\n      <td>רמת בלפור</td>\n      <td>80</td>\n      <td>3.5</td>\n      <td>3.0</td>\n      <td>512.0</td>\n      <td>2095.0</td>\n      <td>1</td>\n      <td>1</td>\n      <td>1</td>\n      <td>1</td>\n      <td>1</td>\n      <td>NaN</td>\n      <td>1</td>\n      <td>1</td>\n      <td>1</td>\n      <td>1</td>\n      <td>1</td>\n      <td>1</td>\n    </tr>\n  </tbody>\n</table>\n</div>"
     },
     "execution_count": 260,
     "metadata": {},
     "output_type": "execute_result"
    }
   ],
   "source": [
    "yad2_df = read_csv('raw_yad2_data.csv')\n",
    "yad2_df.head()"
   ]
  },
  {
   "cell_type": "code",
   "execution_count": 261,
   "metadata": {
    "pycharm": {
     "name": "#%%\n"
    }
   },
   "outputs": [
    {
     "data": {
      "text/plain": "(9110, 20)"
     },
     "execution_count": 261,
     "metadata": {},
     "output_type": "execute_result"
    }
   ],
   "source": [
    "yad2_df.shape"
   ]
  },
  {
   "cell_type": "markdown",
   "metadata": {},
   "source": [
    "#### Removing duplicates\n",
    "We used the 'Post link' feature as a unique identifier for each entry. The 'Post link' is the suffix of the URL which is used to identify each post. For example, a link to a post will look like: \"https://www.yad2.co.il/item/x29qkv38\", so it's 'Post link' will be \"x29qkv38\".\n",
    "We can see that we had about 3000 duplicates, this is because the crawler sometimes would fail, or get blocked by the server, so it will try to get the whole page again and this would create many duplicates."
   ]
  },
  {
   "cell_type": "code",
   "execution_count": 262,
   "metadata": {
    "pycharm": {
     "name": "#%%\n"
    }
   },
   "outputs": [
    {
     "data": {
      "text/plain": "(6650, 20)"
     },
     "execution_count": 262,
     "metadata": {},
     "output_type": "execute_result"
    }
   ],
   "source": [
    "yad2_df.drop_duplicates(['Post link'], inplace=True)\n",
    "yad2_df.shape"
   ]
  },
  {
   "cell_type": "markdown",
   "metadata": {},
   "source": [
    "#### Handling null values\n",
    "The 'Price' and 'Number of rooms' are 2 key features in our data set. Because of that, we decided to drop entries that had that value missing.\n",
    "As we can see, we will only lose about 200 entries, which is not much."
   ]
  },
  {
   "cell_type": "code",
   "execution_count": 263,
   "metadata": {
    "pycharm": {
     "name": "#%%\n"
    }
   },
   "outputs": [
    {
     "name": "stdout",
     "output_type": "stream",
     "text": [
      "<class 'pandas.core.frame.DataFrame'>\n",
      "Int64Index: 6344 entries, 0 to 9109\n",
      "Data columns (total 20 columns):\n",
      " #   Column           Non-Null Count  Dtype  \n",
      "---  ------           --------------  -----  \n",
      " 0   Post link        6344 non-null   object \n",
      " 1   City             6344 non-null   object \n",
      " 2   Neighborhood     6344 non-null   object \n",
      " 3   Size             6344 non-null   int64  \n",
      " 4   Number of rooms  6344 non-null   float64\n",
      " 5   Floor number     5960 non-null   float64\n",
      " 6   Taxes            2866 non-null   float64\n",
      " 7   Price            6344 non-null   float64\n",
      " 8   Room mates       6344 non-null   int64  \n",
      " 9   Furniture        6344 non-null   int64  \n",
      " 10  Elevator         6344 non-null   int64  \n",
      " 11  Air conditioner  6344 non-null   int64  \n",
      " 12  Parking          6344 non-null   int64  \n",
      " 13  Balcony          2871 non-null   float64\n",
      " 14  Bars             6344 non-null   int64  \n",
      " 15  Shelter          6344 non-null   int64  \n",
      " 16  Storeroom        6344 non-null   int64  \n",
      " 17  Renovated        6344 non-null   int64  \n",
      " 18  Boiler           6344 non-null   int64  \n",
      " 19  Pets allowed     6344 non-null   int64  \n",
      "dtypes: float64(5), int64(12), object(3)\n",
      "memory usage: 1.0+ MB\n"
     ]
    }
   ],
   "source": [
    "yad2_df.dropna(subset=['Price', 'Number of rooms'], inplace=True)\n",
    "yad2_df.info()"
   ]
  },
  {
   "cell_type": "markdown",
   "metadata": {},
   "source": [
    "We chose to fill in the missing values in some features.\n",
    "The missing values of the 'Balcony' feature is due to fact that some posts were missing that value, so we took an assumption that if an apartment would have a balcony, the owner would have mentioned it in the post, and if he didn't, that is probably because there is no balcony.\n",
    "\n",
    "To fill the missing values of the 'Floor number' feature we chose to use median, because it gives less weigh to edge values. Meaning that if we had an entry with 'Floor number' of 100, it wouldn't affect as much on the median as it would affect the average."
   ]
  },
  {
   "cell_type": "code",
   "execution_count": 264,
   "metadata": {
    "pycharm": {
     "name": "#%%\n"
    }
   },
   "outputs": [
    {
     "name": "stdout",
     "output_type": "stream",
     "text": [
      "<class 'pandas.core.frame.DataFrame'>\n",
      "Int64Index: 6344 entries, 0 to 9109\n",
      "Data columns (total 20 columns):\n",
      " #   Column           Non-Null Count  Dtype  \n",
      "---  ------           --------------  -----  \n",
      " 0   Post link        6344 non-null   object \n",
      " 1   City             6344 non-null   object \n",
      " 2   Neighborhood     6344 non-null   object \n",
      " 3   Size             6344 non-null   int64  \n",
      " 4   Number of rooms  6344 non-null   float64\n",
      " 5   Floor number     6344 non-null   float64\n",
      " 6   Taxes            2866 non-null   float64\n",
      " 7   Price            6344 non-null   float64\n",
      " 8   Room mates       6344 non-null   int64  \n",
      " 9   Furniture        6344 non-null   int64  \n",
      " 10  Elevator         6344 non-null   int64  \n",
      " 11  Air conditioner  6344 non-null   int64  \n",
      " 12  Parking          6344 non-null   int64  \n",
      " 13  Balcony          6344 non-null   float64\n",
      " 14  Bars             6344 non-null   int64  \n",
      " 15  Shelter          6344 non-null   int64  \n",
      " 16  Storeroom        6344 non-null   int64  \n",
      " 17  Renovated        6344 non-null   int64  \n",
      " 18  Boiler           6344 non-null   int64  \n",
      " 19  Pets allowed     6344 non-null   int64  \n",
      "dtypes: float64(5), int64(12), object(3)\n",
      "memory usage: 1.0+ MB\n"
     ]
    }
   ],
   "source": [
    "yad2_df['Floor number'].fillna(value=yad2_df['Floor number'].median(), inplace=True)\n",
    "yad2_df['Balcony'].fillna(value=0, inplace=True)\n",
    "yad2_df.info()"
   ]
  },
  {
   "cell_type": "markdown",
   "metadata": {},
   "source": [
    "#### Removing unnecessary features"
   ]
  },
  {
   "cell_type": "code",
   "execution_count": 265,
   "metadata": {
    "pycharm": {
     "name": "#%%\n"
    }
   },
   "outputs": [],
   "source": [
    "yad2_df.drop(['Post link', 'Taxes'], axis=1, inplace=True)"
   ]
  },
  {
   "cell_type": "markdown",
   "metadata": {},
   "source": [
    "## Homeless.co.il Data\n",
    "We will follow the same procedure as before for the Homeless data set.\n",
    "We loaded the CSV and took a look at a few entries."
   ]
  },
  {
   "cell_type": "code",
   "execution_count": 266,
   "metadata": {
    "pycharm": {
     "name": "#%%\n"
    }
   },
   "outputs": [
    {
     "data": {
      "text/plain": "   Page number             City Neighborhood  Size  Number of rooms  \\\n0       685019             חיפה     נוה שאנן  80.0              3.0   \n1       685018             חיפה    נווה שאנן  35.0              1.0   \n2       685017  פוריה כפר עבודה        החרוב  90.0              3.0   \n3       685016  פוריה כפר עבודה        החרוב  90.0              3.0   \n4       685015      תל אביב יפו   גימל החדשה  86.0              3.0   \n\n   Floor number  Taxes    Price  Room mates  Furniture  Elevator  \\\n0           3.0   1150   3400.0           0          1         0   \n1           1.0    280   1950.0           0          1         0   \n2           0.0      0   3800.0           0          0         0   \n3           0.0      0   3800.0           0          0         0   \n4           1.0   1180  11000.0           0          1         1   \n\n   Air conditioner  Parking  Balcony  Bars  Shelter  Storeroom  Renovated  \\\n0                1        0        0     0        0          0          1   \n1                1        0        0     1        0          0          1   \n2                1        1        1     0        0          0          1   \n3                1        1        1     0        0          0          1   \n4                1        1        1     0        1          0          1   \n\n   Boiler  Pets allowed  \n0       1             0  \n1       1             0  \n2       0             0  \n3       0             0  \n4       0             1  ",
      "text/html": "<div>\n<style scoped>\n    .dataframe tbody tr th:only-of-type {\n        vertical-align: middle;\n    }\n\n    .dataframe tbody tr th {\n        vertical-align: top;\n    }\n\n    .dataframe thead th {\n        text-align: right;\n    }\n</style>\n<table border=\"1\" class=\"dataframe\">\n  <thead>\n    <tr style=\"text-align: right;\">\n      <th></th>\n      <th>Page number</th>\n      <th>City</th>\n      <th>Neighborhood</th>\n      <th>Size</th>\n      <th>Number of rooms</th>\n      <th>Floor number</th>\n      <th>Taxes</th>\n      <th>Price</th>\n      <th>Room mates</th>\n      <th>Furniture</th>\n      <th>Elevator</th>\n      <th>Air conditioner</th>\n      <th>Parking</th>\n      <th>Balcony</th>\n      <th>Bars</th>\n      <th>Shelter</th>\n      <th>Storeroom</th>\n      <th>Renovated</th>\n      <th>Boiler</th>\n      <th>Pets allowed</th>\n    </tr>\n  </thead>\n  <tbody>\n    <tr>\n      <th>0</th>\n      <td>685019</td>\n      <td>חיפה</td>\n      <td>נוה שאנן</td>\n      <td>80.0</td>\n      <td>3.0</td>\n      <td>3.0</td>\n      <td>1150</td>\n      <td>3400.0</td>\n      <td>0</td>\n      <td>1</td>\n      <td>0</td>\n      <td>1</td>\n      <td>0</td>\n      <td>0</td>\n      <td>0</td>\n      <td>0</td>\n      <td>0</td>\n      <td>1</td>\n      <td>1</td>\n      <td>0</td>\n    </tr>\n    <tr>\n      <th>1</th>\n      <td>685018</td>\n      <td>חיפה</td>\n      <td>נווה שאנן</td>\n      <td>35.0</td>\n      <td>1.0</td>\n      <td>1.0</td>\n      <td>280</td>\n      <td>1950.0</td>\n      <td>0</td>\n      <td>1</td>\n      <td>0</td>\n      <td>1</td>\n      <td>0</td>\n      <td>0</td>\n      <td>1</td>\n      <td>0</td>\n      <td>0</td>\n      <td>1</td>\n      <td>1</td>\n      <td>0</td>\n    </tr>\n    <tr>\n      <th>2</th>\n      <td>685017</td>\n      <td>פוריה כפר עבודה</td>\n      <td>החרוב</td>\n      <td>90.0</td>\n      <td>3.0</td>\n      <td>0.0</td>\n      <td>0</td>\n      <td>3800.0</td>\n      <td>0</td>\n      <td>0</td>\n      <td>0</td>\n      <td>1</td>\n      <td>1</td>\n      <td>1</td>\n      <td>0</td>\n      <td>0</td>\n      <td>0</td>\n      <td>1</td>\n      <td>0</td>\n      <td>0</td>\n    </tr>\n    <tr>\n      <th>3</th>\n      <td>685016</td>\n      <td>פוריה כפר עבודה</td>\n      <td>החרוב</td>\n      <td>90.0</td>\n      <td>3.0</td>\n      <td>0.0</td>\n      <td>0</td>\n      <td>3800.0</td>\n      <td>0</td>\n      <td>0</td>\n      <td>0</td>\n      <td>1</td>\n      <td>1</td>\n      <td>1</td>\n      <td>0</td>\n      <td>0</td>\n      <td>0</td>\n      <td>1</td>\n      <td>0</td>\n      <td>0</td>\n    </tr>\n    <tr>\n      <th>4</th>\n      <td>685015</td>\n      <td>תל אביב יפו</td>\n      <td>גימל החדשה</td>\n      <td>86.0</td>\n      <td>3.0</td>\n      <td>1.0</td>\n      <td>1180</td>\n      <td>11000.0</td>\n      <td>0</td>\n      <td>1</td>\n      <td>1</td>\n      <td>1</td>\n      <td>1</td>\n      <td>1</td>\n      <td>0</td>\n      <td>1</td>\n      <td>0</td>\n      <td>1</td>\n      <td>0</td>\n      <td>1</td>\n    </tr>\n  </tbody>\n</table>\n</div>"
     },
     "execution_count": 266,
     "metadata": {},
     "output_type": "execute_result"
    }
   ],
   "source": [
    "homeless_df = read_csv('raw_homeless_data.csv')\n",
    "homeless_df.head()"
   ]
  },
  {
   "cell_type": "code",
   "execution_count": 267,
   "metadata": {},
   "outputs": [
    {
     "name": "stdout",
     "output_type": "stream",
     "text": [
      "<class 'pandas.core.frame.DataFrame'>\n",
      "RangeIndex: 4522 entries, 0 to 4521\n",
      "Data columns (total 20 columns):\n",
      " #   Column           Non-Null Count  Dtype  \n",
      "---  ------           --------------  -----  \n",
      " 0   Page number      4522 non-null   int64  \n",
      " 1   City             4521 non-null   object \n",
      " 2   Neighborhood     4522 non-null   object \n",
      " 3   Size             4485 non-null   float64\n",
      " 4   Number of rooms  4475 non-null   float64\n",
      " 5   Floor number     4511 non-null   float64\n",
      " 6   Taxes            4522 non-null   int64  \n",
      " 7   Price            4475 non-null   float64\n",
      " 8   Room mates       4522 non-null   int64  \n",
      " 9   Furniture        4522 non-null   int64  \n",
      " 10  Elevator         4522 non-null   int64  \n",
      " 11  Air conditioner  4522 non-null   int64  \n",
      " 12  Parking          4522 non-null   int64  \n",
      " 13  Balcony          4522 non-null   int64  \n",
      " 14  Bars             4522 non-null   int64  \n",
      " 15  Shelter          4522 non-null   int64  \n",
      " 16  Storeroom        4522 non-null   int64  \n",
      " 17  Renovated        4522 non-null   int64  \n",
      " 18  Boiler           4522 non-null   int64  \n",
      " 19  Pets allowed     4522 non-null   int64  \n",
      "dtypes: float64(4), int64(14), object(2)\n",
      "memory usage: 706.7+ KB\n"
     ]
    }
   ],
   "source": [
    "homeless_df.info()"
   ]
  },
  {
   "cell_type": "code",
   "execution_count": 268,
   "outputs": [
    {
     "data": {
      "text/plain": "          Page number         City Neighborhood          Size  \\\ncount     4522.000000         4521         4522  4.485000e+03   \nunique            NaN          309         1366           NaN   \ntop               NaN  תל אביב יפו         מרכז           NaN   \nfreq              NaN          535          249           NaN   \nmean    680868.547103          NaN          NaN  2.772780e+06   \nstd       4014.757757          NaN          NaN  1.842839e+08   \nmin     665030.000000          NaN          NaN  0.000000e+00   \n25%     680224.500000          NaN          NaN  6.000000e+01   \n50%     681750.500000          NaN          NaN  7.500000e+01   \n75%     683504.750000          NaN          NaN  9.900000e+01   \nmax     685097.000000          NaN          NaN  1.234123e+10   \n\n        Number of rooms  Floor number         Taxes         Price  \\\ncount       4475.000000   4511.000000   4522.000000   4475.000000   \nunique              NaN           NaN           NaN           NaN   \ntop                 NaN           NaN           NaN           NaN   \nfreq                NaN           NaN           NaN           NaN   \nmean           8.690056      2.136777    529.189297   4429.810056   \nstd           11.982899      1.878139   3472.852395   4280.285176   \nmin            1.000000     -1.000000      0.000000      1.000000   \n25%            3.000000      1.000000      0.000000   2900.000000   \n50%            3.000000      2.000000    200.000000   3800.000000   \n75%            5.000000      3.000000    620.000000   4950.000000   \nmax           65.000000      9.000000  86786.000000  89000.000000   \n\n         Room mates    Furniture     Elevator  Air conditioner      Parking  \\\ncount   4522.000000  4522.000000  4522.000000      4522.000000  4522.000000   \nunique          NaN          NaN          NaN              NaN          NaN   \ntop             NaN          NaN          NaN              NaN          NaN   \nfreq            NaN          NaN          NaN              NaN          NaN   \nmean       0.261389     0.543344     0.346970         0.943830     0.698806   \nstd        0.439440     0.498173     0.476059         0.230275     0.458828   \nmin        0.000000     0.000000     0.000000         0.000000     0.000000   \n25%        0.000000     0.000000     0.000000         1.000000     0.000000   \n50%        0.000000     1.000000     0.000000         1.000000     1.000000   \n75%        1.000000     1.000000     1.000000         1.000000     1.000000   \nmax        1.000000     1.000000     1.000000         1.000000     1.000000   \n\n            Balcony         Bars      Shelter    Storeroom    Renovated  \\\ncount   4522.000000  4522.000000  4522.000000  4522.000000  4522.000000   \nunique          NaN          NaN          NaN          NaN          NaN   \ntop             NaN          NaN          NaN          NaN          NaN   \nfreq            NaN          NaN          NaN          NaN          NaN   \nmean       0.474348     0.324856     0.115436     0.102609     0.276648   \nstd        0.499397     0.468373     0.319582     0.303482     0.447390   \nmin        0.000000     0.000000     0.000000     0.000000     0.000000   \n25%        0.000000     0.000000     0.000000     0.000000     0.000000   \n50%        0.000000     0.000000     0.000000     0.000000     0.000000   \n75%        1.000000     1.000000     0.000000     0.000000     1.000000   \nmax        1.000000     1.000000     1.000000     1.000000     1.000000   \n\n             Boiler  Pets allowed  \ncount   4522.000000   4522.000000  \nunique          NaN           NaN  \ntop             NaN           NaN  \nfreq            NaN           NaN  \nmean       0.325962      0.126714  \nstd        0.468785      0.332689  \nmin        0.000000      0.000000  \n25%        0.000000      0.000000  \n50%        0.000000      0.000000  \n75%        1.000000      0.000000  \nmax        1.000000      1.000000  ",
      "text/html": "<div>\n<style scoped>\n    .dataframe tbody tr th:only-of-type {\n        vertical-align: middle;\n    }\n\n    .dataframe tbody tr th {\n        vertical-align: top;\n    }\n\n    .dataframe thead th {\n        text-align: right;\n    }\n</style>\n<table border=\"1\" class=\"dataframe\">\n  <thead>\n    <tr style=\"text-align: right;\">\n      <th></th>\n      <th>Page number</th>\n      <th>City</th>\n      <th>Neighborhood</th>\n      <th>Size</th>\n      <th>Number of rooms</th>\n      <th>Floor number</th>\n      <th>Taxes</th>\n      <th>Price</th>\n      <th>Room mates</th>\n      <th>Furniture</th>\n      <th>Elevator</th>\n      <th>Air conditioner</th>\n      <th>Parking</th>\n      <th>Balcony</th>\n      <th>Bars</th>\n      <th>Shelter</th>\n      <th>Storeroom</th>\n      <th>Renovated</th>\n      <th>Boiler</th>\n      <th>Pets allowed</th>\n    </tr>\n  </thead>\n  <tbody>\n    <tr>\n      <th>count</th>\n      <td>4522.000000</td>\n      <td>4521</td>\n      <td>4522</td>\n      <td>4.485000e+03</td>\n      <td>4475.000000</td>\n      <td>4511.000000</td>\n      <td>4522.000000</td>\n      <td>4475.000000</td>\n      <td>4522.000000</td>\n      <td>4522.000000</td>\n      <td>4522.000000</td>\n      <td>4522.000000</td>\n      <td>4522.000000</td>\n      <td>4522.000000</td>\n      <td>4522.000000</td>\n      <td>4522.000000</td>\n      <td>4522.000000</td>\n      <td>4522.000000</td>\n      <td>4522.000000</td>\n      <td>4522.000000</td>\n    </tr>\n    <tr>\n      <th>unique</th>\n      <td>NaN</td>\n      <td>309</td>\n      <td>1366</td>\n      <td>NaN</td>\n      <td>NaN</td>\n      <td>NaN</td>\n      <td>NaN</td>\n      <td>NaN</td>\n      <td>NaN</td>\n      <td>NaN</td>\n      <td>NaN</td>\n      <td>NaN</td>\n      <td>NaN</td>\n      <td>NaN</td>\n      <td>NaN</td>\n      <td>NaN</td>\n      <td>NaN</td>\n      <td>NaN</td>\n      <td>NaN</td>\n      <td>NaN</td>\n    </tr>\n    <tr>\n      <th>top</th>\n      <td>NaN</td>\n      <td>תל אביב יפו</td>\n      <td>מרכז</td>\n      <td>NaN</td>\n      <td>NaN</td>\n      <td>NaN</td>\n      <td>NaN</td>\n      <td>NaN</td>\n      <td>NaN</td>\n      <td>NaN</td>\n      <td>NaN</td>\n      <td>NaN</td>\n      <td>NaN</td>\n      <td>NaN</td>\n      <td>NaN</td>\n      <td>NaN</td>\n      <td>NaN</td>\n      <td>NaN</td>\n      <td>NaN</td>\n      <td>NaN</td>\n    </tr>\n    <tr>\n      <th>freq</th>\n      <td>NaN</td>\n      <td>535</td>\n      <td>249</td>\n      <td>NaN</td>\n      <td>NaN</td>\n      <td>NaN</td>\n      <td>NaN</td>\n      <td>NaN</td>\n      <td>NaN</td>\n      <td>NaN</td>\n      <td>NaN</td>\n      <td>NaN</td>\n      <td>NaN</td>\n      <td>NaN</td>\n      <td>NaN</td>\n      <td>NaN</td>\n      <td>NaN</td>\n      <td>NaN</td>\n      <td>NaN</td>\n      <td>NaN</td>\n    </tr>\n    <tr>\n      <th>mean</th>\n      <td>680868.547103</td>\n      <td>NaN</td>\n      <td>NaN</td>\n      <td>2.772780e+06</td>\n      <td>8.690056</td>\n      <td>2.136777</td>\n      <td>529.189297</td>\n      <td>4429.810056</td>\n      <td>0.261389</td>\n      <td>0.543344</td>\n      <td>0.346970</td>\n      <td>0.943830</td>\n      <td>0.698806</td>\n      <td>0.474348</td>\n      <td>0.324856</td>\n      <td>0.115436</td>\n      <td>0.102609</td>\n      <td>0.276648</td>\n      <td>0.325962</td>\n      <td>0.126714</td>\n    </tr>\n    <tr>\n      <th>std</th>\n      <td>4014.757757</td>\n      <td>NaN</td>\n      <td>NaN</td>\n      <td>1.842839e+08</td>\n      <td>11.982899</td>\n      <td>1.878139</td>\n      <td>3472.852395</td>\n      <td>4280.285176</td>\n      <td>0.439440</td>\n      <td>0.498173</td>\n      <td>0.476059</td>\n      <td>0.230275</td>\n      <td>0.458828</td>\n      <td>0.499397</td>\n      <td>0.468373</td>\n      <td>0.319582</td>\n      <td>0.303482</td>\n      <td>0.447390</td>\n      <td>0.468785</td>\n      <td>0.332689</td>\n    </tr>\n    <tr>\n      <th>min</th>\n      <td>665030.000000</td>\n      <td>NaN</td>\n      <td>NaN</td>\n      <td>0.000000e+00</td>\n      <td>1.000000</td>\n      <td>-1.000000</td>\n      <td>0.000000</td>\n      <td>1.000000</td>\n      <td>0.000000</td>\n      <td>0.000000</td>\n      <td>0.000000</td>\n      <td>0.000000</td>\n      <td>0.000000</td>\n      <td>0.000000</td>\n      <td>0.000000</td>\n      <td>0.000000</td>\n      <td>0.000000</td>\n      <td>0.000000</td>\n      <td>0.000000</td>\n      <td>0.000000</td>\n    </tr>\n    <tr>\n      <th>25%</th>\n      <td>680224.500000</td>\n      <td>NaN</td>\n      <td>NaN</td>\n      <td>6.000000e+01</td>\n      <td>3.000000</td>\n      <td>1.000000</td>\n      <td>0.000000</td>\n      <td>2900.000000</td>\n      <td>0.000000</td>\n      <td>0.000000</td>\n      <td>0.000000</td>\n      <td>1.000000</td>\n      <td>0.000000</td>\n      <td>0.000000</td>\n      <td>0.000000</td>\n      <td>0.000000</td>\n      <td>0.000000</td>\n      <td>0.000000</td>\n      <td>0.000000</td>\n      <td>0.000000</td>\n    </tr>\n    <tr>\n      <th>50%</th>\n      <td>681750.500000</td>\n      <td>NaN</td>\n      <td>NaN</td>\n      <td>7.500000e+01</td>\n      <td>3.000000</td>\n      <td>2.000000</td>\n      <td>200.000000</td>\n      <td>3800.000000</td>\n      <td>0.000000</td>\n      <td>1.000000</td>\n      <td>0.000000</td>\n      <td>1.000000</td>\n      <td>1.000000</td>\n      <td>0.000000</td>\n      <td>0.000000</td>\n      <td>0.000000</td>\n      <td>0.000000</td>\n      <td>0.000000</td>\n      <td>0.000000</td>\n      <td>0.000000</td>\n    </tr>\n    <tr>\n      <th>75%</th>\n      <td>683504.750000</td>\n      <td>NaN</td>\n      <td>NaN</td>\n      <td>9.900000e+01</td>\n      <td>5.000000</td>\n      <td>3.000000</td>\n      <td>620.000000</td>\n      <td>4950.000000</td>\n      <td>1.000000</td>\n      <td>1.000000</td>\n      <td>1.000000</td>\n      <td>1.000000</td>\n      <td>1.000000</td>\n      <td>1.000000</td>\n      <td>1.000000</td>\n      <td>0.000000</td>\n      <td>0.000000</td>\n      <td>1.000000</td>\n      <td>1.000000</td>\n      <td>0.000000</td>\n    </tr>\n    <tr>\n      <th>max</th>\n      <td>685097.000000</td>\n      <td>NaN</td>\n      <td>NaN</td>\n      <td>1.234123e+10</td>\n      <td>65.000000</td>\n      <td>9.000000</td>\n      <td>86786.000000</td>\n      <td>89000.000000</td>\n      <td>1.000000</td>\n      <td>1.000000</td>\n      <td>1.000000</td>\n      <td>1.000000</td>\n      <td>1.000000</td>\n      <td>1.000000</td>\n      <td>1.000000</td>\n      <td>1.000000</td>\n      <td>1.000000</td>\n      <td>1.000000</td>\n      <td>1.000000</td>\n      <td>1.000000</td>\n    </tr>\n  </tbody>\n</table>\n</div>"
     },
     "execution_count": 268,
     "metadata": {},
     "output_type": "execute_result"
    }
   ],
   "source": [
    "homeless_df.describe(include='all')"
   ],
   "metadata": {
    "collapsed": false,
    "pycharm": {
     "name": "#%%\n"
    }
   }
  },
  {
   "cell_type": "markdown",
   "metadata": {},
   "source": [
    "#### Removing duplicates\n",
    "As before, we used the 'Page number' as a unique identifier for each entry. This feature holds the number of the post that is listed at Homeless. If we have a post with the following link: \"https://www.homeless.co.il/rent/viewad,685021\", it's post number would be \"685021\".\n",
    "This time, we only had 1 duplicate to remove."
   ]
  },
  {
   "cell_type": "code",
   "execution_count": 269,
   "metadata": {
    "pycharm": {
     "name": "#%%\n"
    }
   },
   "outputs": [
    {
     "name": "stdout",
     "output_type": "stream",
     "text": [
      "<class 'pandas.core.frame.DataFrame'>\n",
      "Int64Index: 4521 entries, 0 to 4521\n",
      "Data columns (total 20 columns):\n",
      " #   Column           Non-Null Count  Dtype  \n",
      "---  ------           --------------  -----  \n",
      " 0   Page number      4521 non-null   int64  \n",
      " 1   City             4520 non-null   object \n",
      " 2   Neighborhood     4521 non-null   object \n",
      " 3   Size             4484 non-null   float64\n",
      " 4   Number of rooms  4474 non-null   float64\n",
      " 5   Floor number     4510 non-null   float64\n",
      " 6   Taxes            4521 non-null   int64  \n",
      " 7   Price            4474 non-null   float64\n",
      " 8   Room mates       4521 non-null   int64  \n",
      " 9   Furniture        4521 non-null   int64  \n",
      " 10  Elevator         4521 non-null   int64  \n",
      " 11  Air conditioner  4521 non-null   int64  \n",
      " 12  Parking          4521 non-null   int64  \n",
      " 13  Balcony          4521 non-null   int64  \n",
      " 14  Bars             4521 non-null   int64  \n",
      " 15  Shelter          4521 non-null   int64  \n",
      " 16  Storeroom        4521 non-null   int64  \n",
      " 17  Renovated        4521 non-null   int64  \n",
      " 18  Boiler           4521 non-null   int64  \n",
      " 19  Pets allowed     4521 non-null   int64  \n",
      "dtypes: float64(4), int64(14), object(2)\n",
      "memory usage: 741.7+ KB\n"
     ]
    }
   ],
   "source": [
    "homeless_df.drop_duplicates(['Page number'], inplace=True)\n",
    "homeless_df.info()"
   ]
  },
  {
   "cell_type": "markdown",
   "metadata": {},
   "source": [
    "#### Handling null values\n",
    "We chose to drop entries that were missing critical features.\n",
    "the amount of the data we lost was pretty small (150~) so it's not that bad."
   ]
  },
  {
   "cell_type": "code",
   "execution_count": 270,
   "metadata": {
    "pycharm": {
     "name": "#%%\n"
    }
   },
   "outputs": [
    {
     "name": "stdout",
     "output_type": "stream",
     "text": [
      "<class 'pandas.core.frame.DataFrame'>\n",
      "Int64Index: 4401 entries, 0 to 4521\n",
      "Data columns (total 20 columns):\n",
      " #   Column           Non-Null Count  Dtype  \n",
      "---  ------           --------------  -----  \n",
      " 0   Page number      4401 non-null   int64  \n",
      " 1   City             4401 non-null   object \n",
      " 2   Neighborhood     4401 non-null   object \n",
      " 3   Size             4401 non-null   float64\n",
      " 4   Number of rooms  4401 non-null   float64\n",
      " 5   Floor number     4392 non-null   float64\n",
      " 6   Taxes            4401 non-null   int64  \n",
      " 7   Price            4401 non-null   float64\n",
      " 8   Room mates       4401 non-null   int64  \n",
      " 9   Furniture        4401 non-null   int64  \n",
      " 10  Elevator         4401 non-null   int64  \n",
      " 11  Air conditioner  4401 non-null   int64  \n",
      " 12  Parking          4401 non-null   int64  \n",
      " 13  Balcony          4401 non-null   int64  \n",
      " 14  Bars             4401 non-null   int64  \n",
      " 15  Shelter          4401 non-null   int64  \n",
      " 16  Storeroom        4401 non-null   int64  \n",
      " 17  Renovated        4401 non-null   int64  \n",
      " 18  Boiler           4401 non-null   int64  \n",
      " 19  Pets allowed     4401 non-null   int64  \n",
      "dtypes: float64(4), int64(14), object(2)\n",
      "memory usage: 722.0+ KB\n"
     ]
    }
   ],
   "source": [
    "homeless_df.dropna(subset=['Price', 'City', 'Number of rooms', 'Size'], inplace=True)\n",
    "homeless_df.info()"
   ]
  },
  {
   "cell_type": "markdown",
   "metadata": {},
   "source": [
    "To handle the null values for the 'Floor number' feature, we used median. Same as we did for the Yad2 data set"
   ]
  },
  {
   "cell_type": "code",
   "execution_count": 271,
   "metadata": {
    "pycharm": {
     "name": "#%%\n"
    }
   },
   "outputs": [
    {
     "name": "stdout",
     "output_type": "stream",
     "text": [
      "<class 'pandas.core.frame.DataFrame'>\n",
      "Int64Index: 4401 entries, 0 to 4521\n",
      "Data columns (total 20 columns):\n",
      " #   Column           Non-Null Count  Dtype  \n",
      "---  ------           --------------  -----  \n",
      " 0   Page number      4401 non-null   int64  \n",
      " 1   City             4401 non-null   object \n",
      " 2   Neighborhood     4401 non-null   object \n",
      " 3   Size             4401 non-null   float64\n",
      " 4   Number of rooms  4401 non-null   float64\n",
      " 5   Floor number     4401 non-null   float64\n",
      " 6   Taxes            4401 non-null   int64  \n",
      " 7   Price            4401 non-null   float64\n",
      " 8   Room mates       4401 non-null   int64  \n",
      " 9   Furniture        4401 non-null   int64  \n",
      " 10  Elevator         4401 non-null   int64  \n",
      " 11  Air conditioner  4401 non-null   int64  \n",
      " 12  Parking          4401 non-null   int64  \n",
      " 13  Balcony          4401 non-null   int64  \n",
      " 14  Bars             4401 non-null   int64  \n",
      " 15  Shelter          4401 non-null   int64  \n",
      " 16  Storeroom        4401 non-null   int64  \n",
      " 17  Renovated        4401 non-null   int64  \n",
      " 18  Boiler           4401 non-null   int64  \n",
      " 19  Pets allowed     4401 non-null   int64  \n",
      "dtypes: float64(4), int64(14), object(2)\n",
      "memory usage: 722.0+ KB\n"
     ]
    }
   ],
   "source": [
    "homeless_df['Floor number'].fillna(value=homeless_df['Floor number'].median(), inplace=True)\n",
    "homeless_df.info()"
   ]
  },
  {
   "cell_type": "markdown",
   "metadata": {},
   "source": [
    "#### Removing unnecessary features"
   ]
  },
  {
   "cell_type": "code",
   "execution_count": 272,
   "metadata": {
    "pycharm": {
     "name": "#%%\n"
    }
   },
   "outputs": [],
   "source": [
    "homeless_df.drop(['Page number', 'Taxes'], axis=1, inplace=True)"
   ]
  },
  {
   "cell_type": "markdown",
   "metadata": {},
   "source": [
    "# Concatenating the data frames\n",
    "Now that we cleaned both the Yad2 and Homeless data frames, we can merge them and manipulate them as one data frame.\n",
    "We can see that we got a total of around 10,000 entries and more than 160,000 pieces of data."
   ]
  },
  {
   "cell_type": "code",
   "execution_count": 273,
   "metadata": {
    "pycharm": {
     "name": "#%%\n"
    }
   },
   "outputs": [
    {
     "data": {
      "text/plain": "(10745, 18)"
     },
     "execution_count": 273,
     "metadata": {},
     "output_type": "execute_result"
    }
   ],
   "source": [
    "df = pd.concat([yad2_df, homeless_df], ignore_index=True, sort=False)\n",
    "df.shape"
   ]
  },
  {
   "cell_type": "markdown",
   "metadata": {},
   "source": [
    "#### Handle mis-matches in the 2 data sets\n",
    "We noticed a few mismatches between the 2 data sets in string fields. For example, in Yad2 the value for Tel-Aviv could be \"תל-אביב\" and in Homeless it could be \"תל אביב\". We would like to map those 2 different values into 1. This issue had required alot of manual work.\n",
    "Check the output below to see the issue with the 'City' feature."
   ]
  },
  {
   "cell_type": "code",
   "execution_count": 274,
   "metadata": {
    "pycharm": {
     "name": "#%%\n"
    }
   },
   "outputs": [
    {
     "data": {
      "text/plain": "חיפה                 1057\nתל אביב יפו           704\nבאר שבע               684\nירושלים               578\nבת ים                 566\n                     ... \nקריית באליק             1\nאשקלון                  1\nיוקינעם                 1\nקרית יובל ירושלים       1\nיפו                     1\nName: City, Length: 448, dtype: int64"
     },
     "execution_count": 274,
     "metadata": {},
     "output_type": "execute_result"
    }
   ],
   "source": [
    "df['City'].value_counts()"
   ]
  },
  {
   "cell_type": "code",
   "execution_count": 274,
   "metadata": {
    "pycharm": {
     "name": "#%%\n"
    }
   },
   "outputs": [],
   "source": []
  },
  {
   "cell_type": "code",
   "execution_count": 275,
   "outputs": [
    {
     "data": {
      "text/plain": "חיפה       1083\nתל אביב     787\nבאר שבע     686\nירושלים     624\nבת ים       580\n           ... \nרהט           1\nגני טל        1\nשקד           1\nאלקנה         1\nיפו           1\nName: City, Length: 339, dtype: int64"
     },
     "execution_count": 275,
     "metadata": {},
     "output_type": "execute_result"
    }
   ],
   "source": [
    "df.loc[df['City'].isin(['Bat Yam', 'בת יים', 'נבת ים', 'בת ים','רמת יוסף','פארק הים','קוממיות']), 'City'] = 'בת ים'\n",
    "df.loc[df['City'].isin(['ראשון', 'ראשוון לציון', 'ראשוןון לציון', 'ראשל\"צ', 'ראשון לציון','ראשו','ראשון לציון מערב','מערב ותיק']), 'City'] = 'ראשון לציון'\n",
    "df.loc[df['City'].isin(['פתח תקווה', 'פתח תקוה', 'G פתח תקווה','פתח תקווה','פתח ','פתח תקווהתקווה']), 'City'] = 'פתח תקווה'\n",
    "df.loc[df['City'].isin(['נהריה', 'נהרייה','רסקו']), 'City'] = 'נהרייה'\n",
    "df.loc[df['City'].isin(['תל-אביב', 'תל אביב יפו', 'תל אביב', 'תל אביב', '⁹תל אביב יפו', 'תל אביב טופ דן', 'תל א', 'שרונה', 'המושבה האמריקאית-גרמנית','פארק צמרת','נווה שרת','שיכוני חסכון','שכונת דן','שרונה','רמת אביב','רמת אביב ג','רמת אביב החדשה','צפון תל אביב הישן','כוכב הצפון','יפו ג','אזור המלאכה יפו','יפו ד.','גבעת העליה','גימל החדשה','נוה ברבור','הארגזים','גבעת התמרים','גבעת העליה']), 'City'] = 'תל אביב'\n",
    "df.loc[df['City'].isin(['ירשלים', 'ירושלים טלביה', 'ירושלים', 'ירושליים','ירושלים פסגת זאב מזרח','קרית הממשלה','פיסגת זאב', 'פסגת זאב', 'פיסגתזאב','קרית יובל ירושלים','תלפיות מזרח','הגבעה הצרפתית',' בית יעקב','הר חומה']), 'City'] = 'ירושלים'\n",
    "df.loc[df['City'].isin(['טירת הכרמל', 'טירת כרמ', 'טירת כרמלכרמל', 'טירת כרמל']), 'City'] = 'טירת כרמל'\n",
    "df.loc[df['City'].isin(['רמת גן','ררמת גן','רמת גןנגבהמ','רמת גן ','G רמת גן','רמתגן','רמת יצחק',\"מרכז העיר ג'\",'מרכז העיר א','מרכז העיר ב','מרכז העיר']), 'City'] = 'רמת גן'\n",
    "df.loc[df['City'].isin(['יוקינעם','יוקנעם','יקנעם עילית']), 'City'] = 'יקנעם'\n",
    "df.loc[df['City'].isin(['גבעתיים','גבעתיים ']), 'City'] = 'גבעתיים'\n",
    "df.loc[df['City'].isin(['אשקלון','אשקלון ','אשקלון.רמת האשכול']), 'City'] = 'אשקלון'\n",
    "df.loc[df['City'].isin(['הדרים החדשה','כפר סבא','כפר סבא ']), 'City'] = 'כפר סבא'\n",
    "df.loc[df['City'].isin(['רחובות','רחובות ']), 'City'] = 'רחובות'\n",
    "df.loc[df['City'].isin(['חדרה','חדרה ','חדרה הצעירה','חטיבת הנחל חדרה']), 'City'] = 'חדרה'\n",
    "df.loc[df['City'].isin(['אשדוד','אשדוד,איזור ב',]), 'City'] = 'אשדוד'\n",
    "df.loc[df['City'].isin(['חריש','נחריש','קציר חריש']), 'City'] = 'חריש'\n",
    "df.loc[df['City'].isin(['אלעד','אלעד ']), 'City'] = 'אלעד'\n",
    "df.loc[df['City'].isin(['הרצליה','מרינה הרצליה ','הרצליה ','rרמת השרון /הרצליה']), 'City'] = 'הרצליה'\n",
    "df.loc[df['City'].isin(['Bבאר שבע', 'באר שבע', 'באר ש']), 'City'] = 'באר שבע'\n",
    "df.loc[df['City'].isin(['פרדס חנה',' פרדס חנה - כרכור ','פרדס חנה כרכור']), 'City'] = 'פרדס חנה'\n",
    "df.loc[df['City'].isin(['כרמיאל','כרמיאל ']), 'City'] = 'כרמיאל'\n",
    "df.loc[df['City'].isin(['ראש העין','פסגות אפק']), 'City'] = 'ראש העין'\n",
    "df.loc[df['City'].isin(['קריית אתא','קרית אתא.','קרית את','קרית אתא','גבעת העליה']), 'City'] = 'קריית אתא'\n",
    "df.loc[df['City'].isin(['קירית ביאליק','קריית באליק','קריית ביאליק']), 'City'] = 'קריית ביאליק'\n",
    "df.loc[df['City'].isin(['חיפה','נאות פרס','חיפה הדר','חיפה אחוזה','jחיפה','רמב\"ם','תחנת רכבת השמונה ','ואדי סאליב']), 'City'] = 'חיפה'\n",
    "df.loc[df['City'].isin(['אילת','מערב 1','מערב 2']), 'City'] = 'אילת'\n",
    "df.loc[df['City'].isin(['שוהם','ושוהם']), 'City'] = 'שוהם'\n",
    "df.loc[df['City'].isin(['רמת אליהו','רמת הליאו']), 'City'] = 'רמת אליהו'\n",
    "df.loc[df['City'].isin(['בני ברק','בני ברק גבול רמת גן']), 'City'] = 'בני ברק'\n",
    "df.loc[df['City'].isin(['אור ים','אור עקיבא','אור עקיבא ']), 'City'] = 'אור עקיבא'\n",
    "df.loc[df['City'].isin(['נוף הגליל','נצרת עילית','נצרת עילית / נוף הגליל']), 'City'] = 'נצרת עילית'\n",
    "df.loc[df['City'].isin(['קרית מלאכי','אחוזת רוטנר']), 'City'] = 'קריית מלאכי'\n",
    "df.loc[df['City'].isin(['טבריה',\"שיכון ד'\",\"שיכון ה'\",\" שיכון ג'\"]), 'City'] = 'טבריה'\n",
    "\n",
    "\n",
    "df['City'].value_counts()"
   ],
   "metadata": {
    "collapsed": false,
    "pycharm": {
     "name": "#%%\n"
    }
   }
  },
  {
   "cell_type": "markdown",
   "source": [
    "#### Removing cities with less than 10 occurrences"
   ],
   "metadata": {
    "collapsed": false
   }
  },
  {
   "cell_type": "code",
   "execution_count": 276,
   "outputs": [
    {
     "data": {
      "text/plain": "חיפה         1083\nתל אביב       787\nבאר שבע       686\nירושלים       624\nבת ים         580\n             ... \nקרית חיים      11\nעספיא          10\nגדרה           10\nבית דגן        10\nשוהם           10\nName: City, Length: 94, dtype: int64"
     },
     "execution_count": 276,
     "metadata": {},
     "output_type": "execute_result"
    }
   ],
   "source": [
    "city_counts = df['City'].value_counts()\n",
    "for city, count in city_counts.items():\n",
    "    if int(count) < 10:\n",
    "        df.drop(df[df.City == city].index, inplace=True)\n",
    "\n",
    "df['City'].value_counts()"
   ],
   "metadata": {
    "collapsed": false,
    "pycharm": {
     "name": "#%%\n"
    }
   }
  },
  {
   "cell_type": "markdown",
   "metadata": {},
   "source": [
    "#### Handling out-liers\n"
   ]
  },
  {
   "cell_type": "code",
   "execution_count": 277,
   "metadata": {
    "pycharm": {
     "name": "#%%\n"
    }
   },
   "outputs": [
    {
     "data": {
      "text/plain": "(8182, 18)"
     },
     "execution_count": 277,
     "metadata": {},
     "output_type": "execute_result"
    }
   ],
   "source": [
    "columns_list = ['Size', 'Price', 'Number of rooms']\n",
    "for col in columns_list:\n",
    "    q1 = np.percentile(df[col],25)\n",
    "    q3 = np.percentile(df[col],75)\n",
    "    iqr = q3-q1\n",
    "    df = df[(df[col] > q1-1.5*iqr) & (df[col] < q3+1.5*iqr)]\n",
    "\n",
    "df.shape"
   ]
  },
  {
   "cell_type": "code",
   "execution_count": 277,
   "metadata": {
    "pycharm": {
     "name": "#%%\n"
    }
   },
   "outputs": [],
   "source": []
  },
  {
   "cell_type": "markdown",
   "metadata": {},
   "source": [
    "# Visualization"
   ]
  },
  {
   "cell_type": "markdown",
   "metadata": {},
   "source": [
    "#### Amount of records per each city"
   ]
  },
  {
   "cell_type": "code",
   "execution_count": 278,
   "metadata": {},
   "outputs": [
    {
     "data": {
      "text/plain": "<AxesSubplot:>"
     },
     "execution_count": 278,
     "metadata": {},
     "output_type": "execute_result"
    },
    {
     "data": {
      "text/plain": "<Figure size 2160x720 with 1 Axes>",
      "image/png": "[encoded data removed]"
     },
     "metadata": {
      "needs_background": "light"
     },
     "output_type": "display_data"
    }
   ],
   "source": [
    "city_count = df['City'].value_counts()\n",
    "reverse_cities_names = []\n",
    "for name, value in city_count.items():\n",
    "    reverse_cities_names.append(name[::-1])\n",
    "flipped = pd.Series(city_count.values, index=reverse_cities_names)\n",
    "flipped.plot(kind='bar', figsize=(30,10))"
   ]
  },
  {
   "cell_type": "markdown",
   "metadata": {},
   "source": [
    "# Machine learning"
   ]
  },
  {
   "cell_type": "markdown",
   "metadata": {},
   "source": [
    "#### Split label"
   ]
  },
  {
   "cell_type": "code",
   "execution_count": 279,
   "metadata": {},
   "outputs": [],
   "source": [
    "y = df['Price']\n",
    "X = df.drop(['Price'], axis=1)"
   ]
  },
  {
   "cell_type": "code",
   "execution_count": 280,
   "metadata": {},
   "outputs": [
    {
     "name": "stdout",
     "output_type": "stream",
     "text": [
      "             City   Neighborhood   Size  Number of rooms  Floor number  \\\n",
      "0            חדרה     גבעת אולגה  127.0              4.0           5.0   \n",
      "1            חיפה           יל\"ג   65.0              3.5           1.0   \n",
      "2       רמות ספיר      שכונה י\"א   70.0              3.0           1.0   \n",
      "3       קריית אתא      מרכז העיר   70.0              3.0           1.0   \n",
      "4       מגדל העמק      רמת בלפור   80.0              3.5           3.0   \n",
      "...           ...            ...    ...              ...           ...   \n",
      "8069        בת ים          ניצנה   50.0              2.0           2.0   \n",
      "8070         חיפה      נווה יוסף   65.0              3.0           4.0   \n",
      "8072  ראשון לציון         רמב``ם   85.0              4.0           4.0   \n",
      "8073        בת ים  שכונת קלאוזנר  100.0              3.0           3.0   \n",
      "8074     כפר יונה         שרונה   145.0              4.0           1.0   \n",
      "\n",
      "      Room mates  Furniture  Elevator  Air conditioner  Parking  Balcony  \\\n",
      "0              1          1         1                1        1      1.0   \n",
      "1              1          1         1                1        0      0.0   \n",
      "2              1          1         1                1        1      0.0   \n",
      "3              1          1         1                1        0      0.0   \n",
      "4              1          1         1                1        1      0.0   \n",
      "...          ...        ...       ...              ...      ...      ...   \n",
      "8069           0          1         0                1        1      0.0   \n",
      "8070           0          0         1                1        1      1.0   \n",
      "8072           1          0         0                1        0      0.0   \n",
      "8073           0          0         0                1        0      1.0   \n",
      "8074           1          0         1                1        1      1.0   \n",
      "\n",
      "      Bars  Shelter  Storeroom  Renovated  Boiler  Pets allowed  \n",
      "0        1        1          1          1       1             1  \n",
      "1        1        1          1          1       1             1  \n",
      "2        1        1          1          1       1             1  \n",
      "3        1        1          1          1       1             1  \n",
      "4        1        1          1          1       1             1  \n",
      "...    ...      ...        ...        ...     ...           ...  \n",
      "8069     1        0          0          1       1             0  \n",
      "8070     0        1          1          1       1             0  \n",
      "8072     0        0          0          1       1             1  \n",
      "8073     0        0          0          1       1             0  \n",
      "8074     0        1          0          0       1             1  \n",
      "\n",
      "[6545 rows x 17 columns]             City   Neighborhood   Size  Number of rooms  Floor number  \\\n",
      "8075      דימונה   שכונה לדוגמא   74.0              3.0           3.0   \n",
      "8076        חיפה      נווה שאנן   45.0              2.0           0.0   \n",
      "8077        חיפה      נווה שאנן   45.0              2.0           0.0   \n",
      "8078        חיפה      נווה שאנן   45.0              2.0           0.0   \n",
      "8079        חיפה      נווה שאנן   45.0              2.0           0.0   \n",
      "...          ...            ...    ...              ...           ...   \n",
      "10735       חיפה    רוממה הישנה   95.0              4.0           0.0   \n",
      "10736    באר שבע              ד   85.0              3.0           8.0   \n",
      "10740  רמת השרון           גולן  110.0              4.0           2.0   \n",
      "10741    ירושלים           גילה   45.0              2.0           0.0   \n",
      "10742     הרצליה  הרצליה הצעירה  130.0              5.0           0.0   \n",
      "\n",
      "       Room mates  Furniture  Elevator  Air conditioner  Parking  Balcony  \\\n",
      "8075            1          1         0                1        1      0.0   \n",
      "8076            0          1         0                1        0      1.0   \n",
      "8077            0          1         0                1        0      1.0   \n",
      "8078            0          1         0                1        0      1.0   \n",
      "8079            0          1         0                1        0      1.0   \n",
      "...           ...        ...       ...              ...      ...      ...   \n",
      "10735           1          1         0                1        1      0.0   \n",
      "10736           1          1         1                1        1      1.0   \n",
      "10740           0          0         1                1        1      0.0   \n",
      "10741           0          0         0                0        1      0.0   \n",
      "10742           1          1         1                1        1      1.0   \n",
      "\n",
      "       Bars  Shelter  Storeroom  Renovated  Boiler  Pets allowed  \n",
      "8075      0        0          1          1       1             1  \n",
      "8076      1        0          0          1       0             0  \n",
      "8077      1        0          0          1       0             0  \n",
      "8078      1        0          0          1       0             0  \n",
      "8079      1        0          0          1       0             0  \n",
      "...     ...      ...        ...        ...     ...           ...  \n",
      "10735     1        0          0          1       0             0  \n",
      "10736     0        0          0          0       0             0  \n",
      "10740     0        0          0          0       0             0  \n",
      "10741     1        0          0          0       0             0  \n",
      "10742     1        0          0          0       0             0  \n",
      "\n",
      "[1637 rows x 17 columns] 0       4700.0\n",
      "1       2400.0\n",
      "2       2450.0\n",
      "3       2900.0\n",
      "4       2095.0\n",
      "         ...  \n",
      "8069    3700.0\n",
      "8070    3400.0\n",
      "8072    4500.0\n",
      "8073    4000.0\n",
      "8074    4800.0\n",
      "Name: Price, Length: 6545, dtype: float64 8075     1900.0\n",
      "8076     2500.0\n",
      "8077     2500.0\n",
      "8078     2500.0\n",
      "8079     2500.0\n",
      "          ...  \n",
      "10735    3400.0\n",
      "10736    4000.0\n",
      "10740    5700.0\n",
      "10741    2990.0\n",
      "10742    7000.0\n",
      "Name: Price, Length: 1637, dtype: float64\n"
     ]
    }
   ],
   "source": [
    "from sklearn.model_selection import train_test_split\n",
    "X_train, X_test, y_train, y_test = train_test_split(X, y, test_size=0.2, random_state=42, shuffle=False)\n",
    "print(X_train, X_test, y_train, y_test)"
   ]
  },
  {
   "cell_type": "markdown",
   "metadata": {},
   "source": [
    "#### Scailing"
   ]
  },
  {
   "cell_type": "code",
   "execution_count": 281,
   "metadata": {},
   "outputs": [],
   "source": [
    "def scale_features(X_train, scale_type):\n",
    "    if(scale_type == 'minmax'):\n",
    "         scaler=MinMaxScaler(feature_range=(0, 1))\n",
    "    else:\n",
    "        scaler=StandardScaler()\n",
    "    X_train_scaled = scaler.fit_transform(X_train)\n",
    "    return scaler, X_train_scaled"
   ]
  },
  {
   "cell_type": "code",
   "execution_count": 282,
   "metadata": {},
   "outputs": [
    {
     "name": "stdout",
     "output_type": "stream",
     "text": [
      "StandardScaler() [[ 1.79804568  0.85810149  0.8054315  ...  0.29224357  0.2300607\n",
      "   0.39257794]\n",
      " [-0.58692384  0.25820037 -0.74342972 ...  0.29224357  0.2300607\n",
      "   0.39257794]\n",
      " [-0.39458759 -0.34170074 -0.74342972 ...  0.29224357  0.2300607\n",
      "   0.39257794]\n",
      " ...\n",
      " [ 0.18242116  0.85810149  0.41821619 ...  0.29224357  0.2300607\n",
      "   0.39257794]\n",
      " [ 0.75942992 -0.34170074  0.03100089 ...  0.29224357  0.2300607\n",
      "  -2.54726488]\n",
      " [ 2.49045618  0.85810149 -0.74342972 ... -3.42180331  0.2300607\n",
      "   0.39257794]]\n"
     ]
    }
   ],
   "source": [
    "X_train2 = X_train.drop(['City','Neighborhood'], axis=1)\n",
    "minmax_scaler, X_train_minmax_scaled = scale_features(X_train2, 'minmax')\n",
    "standard_scaler, X_train_standard_scaled = scale_features(X_train2, 'standard')\n",
    "print(standard_scaler, X_train_standard_scaled)"
   ]
  },
  {
   "cell_type": "markdown",
   "metadata": {},
   "source": [
    "#### Complete the Scailing"
   ]
  },
  {
   "cell_type": "code",
   "execution_count": 283,
   "metadata": {},
   "outputs": [],
   "source": [
    "def scale_test_features(X_test, scaler):\n",
    "    return scaler.transform(X_test)"
   ]
  },
  {
   "cell_type": "code",
   "execution_count": 284,
   "metadata": {},
   "outputs": [
    {
     "name": "stdout",
     "output_type": "stream",
     "text": [
      "[[-0.24071859 -0.34170074  0.03100089 ...  0.29224357  0.2300607\n",
      "   0.39257794]\n",
      " [-1.35626885 -1.54150298 -1.13064502 ...  0.29224357 -4.34667885\n",
      "  -2.54726488]\n",
      " [-1.35626885 -1.54150298 -1.13064502 ...  0.29224357 -4.34667885\n",
      "  -2.54726488]\n",
      " ...\n",
      " [ 1.14410242  0.85810149 -0.35621441 ... -3.42180331 -4.34667885\n",
      "  -2.54726488]\n",
      " [-1.35626885 -1.54150298 -1.13064502 ... -3.42180331 -4.34667885\n",
      "  -2.54726488]\n",
      " [ 1.91344743  2.05790373 -1.13064502 ... -3.42180331 -4.34667885\n",
      "  -2.54726488]]\n"
     ]
    }
   ],
   "source": [
    "X_test2 = X_test.drop(['City','Neighborhood'], axis=1)\n",
    "X_test_minmax_scaled = scale_test_features(X_test2, minmax_scaler)\n",
    "X_test_standard_scaled = scale_test_features(X_test2, standard_scaler)\n",
    "print(X_test_standard_scaled)"
   ]
  },
  {
   "cell_type": "code",
   "execution_count": 285,
   "metadata": {},
   "outputs": [
    {
     "name": "stdout",
     "output_type": "stream",
     "text": [
      "False\n",
      "True\n"
     ]
    }
   ],
   "source": [
    "print(np.any(np.isnan(X_train2)))\n",
    "print(np.any(np.isfinite(X_train2)))"
   ]
  },
  {
   "cell_type": "code",
   "execution_count": 286,
   "metadata": {},
   "outputs": [
    {
     "name": "stdout",
     "output_type": "stream",
     "text": [
      "Int64Index([], dtype='int64')\n"
     ]
    }
   ],
   "source": [
    "r = X_train2.index[np.isinf(X_train2).any(1)]\n",
    "print(r)"
   ]
  },
  {
   "cell_type": "markdown",
   "metadata": {},
   "source": [
    "#### Train a classification model"
   ]
  },
  {
   "cell_type": "code",
   "execution_count": 287,
   "metadata": {},
   "outputs": [
    {
     "data": {
      "text/plain": "              Size  Number of rooms  Floor number   Room mates    Furniture  \\\ncount  6545.000000      6545.000000   6545.000000  6545.000000  6545.000000   \nmean     80.257754         3.284798      2.919939     0.866616     0.908785   \nstd      25.998126         0.833534      2.582740     0.340016     0.287936   \nmin       1.000000         2.000000     -1.000000     0.000000     0.000000   \n25%      60.000000         3.000000      1.000000     1.000000     1.000000   \n50%      75.000000         3.000000      2.000000     1.000000     1.000000   \n75%     100.000000         4.000000      3.000000     1.000000     1.000000   \nmax     159.000000         5.000000     34.000000     1.000000     1.000000   \n\n          Elevator  Air conditioner      Parking      Balcony         Bars  \\\ncount  6545.000000      6545.000000  6545.000000  6545.000000  6545.000000   \nmean      0.890909         0.993736     0.529870     0.512758     0.879297   \nstd       0.311777         0.078905     0.499145     0.624625     0.325806   \nmin       0.000000         0.000000     0.000000     0.000000     0.000000   \n25%       1.000000         1.000000     0.000000     0.000000     1.000000   \n50%       1.000000         1.000000     1.000000     0.000000     1.000000   \n75%       1.000000         1.000000     1.000000     1.000000     1.000000   \nmax       1.000000         1.000000     1.000000     3.000000     1.000000   \n\n           Shelter    Storeroom    Renovated       Boiler  Pets allowed  \ncount  6545.000000  6545.000000  6545.000000  6545.000000   6545.000000  \nmean      0.866769     0.862032     0.921314     0.949733      0.866463  \nstd       0.339851     0.344893     0.269269     0.218513      0.340180  \nmin       0.000000     0.000000     0.000000     0.000000      0.000000  \n25%       1.000000     1.000000     1.000000     1.000000      1.000000  \n50%       1.000000     1.000000     1.000000     1.000000      1.000000  \n75%       1.000000     1.000000     1.000000     1.000000      1.000000  \nmax       1.000000     1.000000     1.000000     1.000000      1.000000  ",
      "text/html": "<div>\n<style scoped>\n    .dataframe tbody tr th:only-of-type {\n        vertical-align: middle;\n    }\n\n    .dataframe tbody tr th {\n        vertical-align: top;\n    }\n\n    .dataframe thead th {\n        text-align: right;\n    }\n</style>\n<table border=\"1\" class=\"dataframe\">\n  <thead>\n    <tr style=\"text-align: right;\">\n      <th></th>\n      <th>Size</th>\n      <th>Number of rooms</th>\n      <th>Floor number</th>\n      <th>Room mates</th>\n      <th>Furniture</th>\n      <th>Elevator</th>\n      <th>Air conditioner</th>\n      <th>Parking</th>\n      <th>Balcony</th>\n      <th>Bars</th>\n      <th>Shelter</th>\n      <th>Storeroom</th>\n      <th>Renovated</th>\n      <th>Boiler</th>\n      <th>Pets allowed</th>\n    </tr>\n  </thead>\n  <tbody>\n    <tr>\n      <th>count</th>\n      <td>6545.000000</td>\n      <td>6545.000000</td>\n      <td>6545.000000</td>\n      <td>6545.000000</td>\n      <td>6545.000000</td>\n      <td>6545.000000</td>\n      <td>6545.000000</td>\n      <td>6545.000000</td>\n      <td>6545.000000</td>\n      <td>6545.000000</td>\n      <td>6545.000000</td>\n      <td>6545.000000</td>\n      <td>6545.000000</td>\n      <td>6545.000000</td>\n      <td>6545.000000</td>\n    </tr>\n    <tr>\n      <th>mean</th>\n      <td>80.257754</td>\n      <td>3.284798</td>\n      <td>2.919939</td>\n      <td>0.866616</td>\n      <td>0.908785</td>\n      <td>0.890909</td>\n      <td>0.993736</td>\n      <td>0.529870</td>\n      <td>0.512758</td>\n      <td>0.879297</td>\n      <td>0.866769</td>\n      <td>0.862032</td>\n      <td>0.921314</td>\n      <td>0.949733</td>\n      <td>0.866463</td>\n    </tr>\n    <tr>\n      <th>std</th>\n      <td>25.998126</td>\n      <td>0.833534</td>\n      <td>2.582740</td>\n      <td>0.340016</td>\n      <td>0.287936</td>\n      <td>0.311777</td>\n      <td>0.078905</td>\n      <td>0.499145</td>\n      <td>0.624625</td>\n      <td>0.325806</td>\n      <td>0.339851</td>\n      <td>0.344893</td>\n      <td>0.269269</td>\n      <td>0.218513</td>\n      <td>0.340180</td>\n    </tr>\n    <tr>\n      <th>min</th>\n      <td>1.000000</td>\n      <td>2.000000</td>\n      <td>-1.000000</td>\n      <td>0.000000</td>\n      <td>0.000000</td>\n      <td>0.000000</td>\n      <td>0.000000</td>\n      <td>0.000000</td>\n      <td>0.000000</td>\n      <td>0.000000</td>\n      <td>0.000000</td>\n      <td>0.000000</td>\n      <td>0.000000</td>\n      <td>0.000000</td>\n      <td>0.000000</td>\n    </tr>\n    <tr>\n      <th>25%</th>\n      <td>60.000000</td>\n      <td>3.000000</td>\n      <td>1.000000</td>\n      <td>1.000000</td>\n      <td>1.000000</td>\n      <td>1.000000</td>\n      <td>1.000000</td>\n      <td>0.000000</td>\n      <td>0.000000</td>\n      <td>1.000000</td>\n      <td>1.000000</td>\n      <td>1.000000</td>\n      <td>1.000000</td>\n      <td>1.000000</td>\n      <td>1.000000</td>\n    </tr>\n    <tr>\n      <th>50%</th>\n      <td>75.000000</td>\n      <td>3.000000</td>\n      <td>2.000000</td>\n      <td>1.000000</td>\n      <td>1.000000</td>\n      <td>1.000000</td>\n      <td>1.000000</td>\n      <td>1.000000</td>\n      <td>0.000000</td>\n      <td>1.000000</td>\n      <td>1.000000</td>\n      <td>1.000000</td>\n      <td>1.000000</td>\n      <td>1.000000</td>\n      <td>1.000000</td>\n    </tr>\n    <tr>\n      <th>75%</th>\n      <td>100.000000</td>\n      <td>4.000000</td>\n      <td>3.000000</td>\n      <td>1.000000</td>\n      <td>1.000000</td>\n      <td>1.000000</td>\n      <td>1.000000</td>\n      <td>1.000000</td>\n      <td>1.000000</td>\n      <td>1.000000</td>\n      <td>1.000000</td>\n      <td>1.000000</td>\n      <td>1.000000</td>\n      <td>1.000000</td>\n      <td>1.000000</td>\n    </tr>\n    <tr>\n      <th>max</th>\n      <td>159.000000</td>\n      <td>5.000000</td>\n      <td>34.000000</td>\n      <td>1.000000</td>\n      <td>1.000000</td>\n      <td>1.000000</td>\n      <td>1.000000</td>\n      <td>1.000000</td>\n      <td>3.000000</td>\n      <td>1.000000</td>\n      <td>1.000000</td>\n      <td>1.000000</td>\n      <td>1.000000</td>\n      <td>1.000000</td>\n      <td>1.000000</td>\n    </tr>\n  </tbody>\n</table>\n</div>"
     },
     "execution_count": 287,
     "metadata": {},
     "output_type": "execute_result"
    }
   ],
   "source": [
    "X_train2.describe()"
   ]
  },
  {
   "cell_type": "code",
   "execution_count": 288,
   "metadata": {},
   "outputs": [
    {
     "data": {
      "text/plain": "      Size  Number of rooms  Floor number  Room mates  Furniture  Elevator  \\\n0     True             True          True        True       True      True   \n1     True             True          True        True       True      True   \n2     True             True          True        True       True      True   \n3     True             True          True        True       True      True   \n4     True             True          True        True       True      True   \n...    ...              ...           ...         ...        ...       ...   \n8069  True             True          True        True       True      True   \n8070  True             True          True        True       True      True   \n8072  True             True          True        True       True      True   \n8073  True             True          True        True       True      True   \n8074  True             True          True        True       True      True   \n\n      Air conditioner  Parking  Balcony  Bars  Shelter  Storeroom  Renovated  \\\n0                True     True     True  True     True       True       True   \n1                True     True     True  True     True       True       True   \n2                True     True     True  True     True       True       True   \n3                True     True     True  True     True       True       True   \n4                True     True     True  True     True       True       True   \n...               ...      ...      ...   ...      ...        ...        ...   \n8069             True     True     True  True     True       True       True   \n8070             True     True     True  True     True       True       True   \n8072             True     True     True  True     True       True       True   \n8073             True     True     True  True     True       True       True   \n8074             True     True     True  True     True       True       True   \n\n      Boiler  Pets allowed  \n0       True          True  \n1       True          True  \n2       True          True  \n3       True          True  \n4       True          True  \n...      ...           ...  \n8069    True          True  \n8070    True          True  \n8072    True          True  \n8073    True          True  \n8074    True          True  \n\n[6545 rows x 15 columns]",
      "text/html": "<div>\n<style scoped>\n    .dataframe tbody tr th:only-of-type {\n        vertical-align: middle;\n    }\n\n    .dataframe tbody tr th {\n        vertical-align: top;\n    }\n\n    .dataframe thead th {\n        text-align: right;\n    }\n</style>\n<table border=\"1\" class=\"dataframe\">\n  <thead>\n    <tr style=\"text-align: right;\">\n      <th></th>\n      <th>Size</th>\n      <th>Number of rooms</th>\n      <th>Floor number</th>\n      <th>Room mates</th>\n      <th>Furniture</th>\n      <th>Elevator</th>\n      <th>Air conditioner</th>\n      <th>Parking</th>\n      <th>Balcony</th>\n      <th>Bars</th>\n      <th>Shelter</th>\n      <th>Storeroom</th>\n      <th>Renovated</th>\n      <th>Boiler</th>\n      <th>Pets allowed</th>\n    </tr>\n  </thead>\n  <tbody>\n    <tr>\n      <th>0</th>\n      <td>True</td>\n      <td>True</td>\n      <td>True</td>\n      <td>True</td>\n      <td>True</td>\n      <td>True</td>\n      <td>True</td>\n      <td>True</td>\n      <td>True</td>\n      <td>True</td>\n      <td>True</td>\n      <td>True</td>\n      <td>True</td>\n      <td>True</td>\n      <td>True</td>\n    </tr>\n    <tr>\n      <th>1</th>\n      <td>True</td>\n      <td>True</td>\n      <td>True</td>\n      <td>True</td>\n      <td>True</td>\n      <td>True</td>\n      <td>True</td>\n      <td>True</td>\n      <td>True</td>\n      <td>True</td>\n      <td>True</td>\n      <td>True</td>\n      <td>True</td>\n      <td>True</td>\n      <td>True</td>\n    </tr>\n    <tr>\n      <th>2</th>\n      <td>True</td>\n      <td>True</td>\n      <td>True</td>\n      <td>True</td>\n      <td>True</td>\n      <td>True</td>\n      <td>True</td>\n      <td>True</td>\n      <td>True</td>\n      <td>True</td>\n      <td>True</td>\n      <td>True</td>\n      <td>True</td>\n      <td>True</td>\n      <td>True</td>\n    </tr>\n    <tr>\n      <th>3</th>\n      <td>True</td>\n      <td>True</td>\n      <td>True</td>\n      <td>True</td>\n      <td>True</td>\n      <td>True</td>\n      <td>True</td>\n      <td>True</td>\n      <td>True</td>\n      <td>True</td>\n      <td>True</td>\n      <td>True</td>\n      <td>True</td>\n      <td>True</td>\n      <td>True</td>\n    </tr>\n    <tr>\n      <th>4</th>\n      <td>True</td>\n      <td>True</td>\n      <td>True</td>\n      <td>True</td>\n      <td>True</td>\n      <td>True</td>\n      <td>True</td>\n      <td>True</td>\n      <td>True</td>\n      <td>True</td>\n      <td>True</td>\n      <td>True</td>\n      <td>True</td>\n      <td>True</td>\n      <td>True</td>\n    </tr>\n    <tr>\n      <th>...</th>\n      <td>...</td>\n      <td>...</td>\n      <td>...</td>\n      <td>...</td>\n      <td>...</td>\n      <td>...</td>\n      <td>...</td>\n      <td>...</td>\n      <td>...</td>\n      <td>...</td>\n      <td>...</td>\n      <td>...</td>\n      <td>...</td>\n      <td>...</td>\n      <td>...</td>\n    </tr>\n    <tr>\n      <th>8069</th>\n      <td>True</td>\n      <td>True</td>\n      <td>True</td>\n      <td>True</td>\n      <td>True</td>\n      <td>True</td>\n      <td>True</td>\n      <td>True</td>\n      <td>True</td>\n      <td>True</td>\n      <td>True</td>\n      <td>True</td>\n      <td>True</td>\n      <td>True</td>\n      <td>True</td>\n    </tr>\n    <tr>\n      <th>8070</th>\n      <td>True</td>\n      <td>True</td>\n      <td>True</td>\n      <td>True</td>\n      <td>True</td>\n      <td>True</td>\n      <td>True</td>\n      <td>True</td>\n      <td>True</td>\n      <td>True</td>\n      <td>True</td>\n      <td>True</td>\n      <td>True</td>\n      <td>True</td>\n      <td>True</td>\n    </tr>\n    <tr>\n      <th>8072</th>\n      <td>True</td>\n      <td>True</td>\n      <td>True</td>\n      <td>True</td>\n      <td>True</td>\n      <td>True</td>\n      <td>True</td>\n      <td>True</td>\n      <td>True</td>\n      <td>True</td>\n      <td>True</td>\n      <td>True</td>\n      <td>True</td>\n      <td>True</td>\n      <td>True</td>\n    </tr>\n    <tr>\n      <th>8073</th>\n      <td>True</td>\n      <td>True</td>\n      <td>True</td>\n      <td>True</td>\n      <td>True</td>\n      <td>True</td>\n      <td>True</td>\n      <td>True</td>\n      <td>True</td>\n      <td>True</td>\n      <td>True</td>\n      <td>True</td>\n      <td>True</td>\n      <td>True</td>\n      <td>True</td>\n    </tr>\n    <tr>\n      <th>8074</th>\n      <td>True</td>\n      <td>True</td>\n      <td>True</td>\n      <td>True</td>\n      <td>True</td>\n      <td>True</td>\n      <td>True</td>\n      <td>True</td>\n      <td>True</td>\n      <td>True</td>\n      <td>True</td>\n      <td>True</td>\n      <td>True</td>\n      <td>True</td>\n      <td>True</td>\n    </tr>\n  </tbody>\n</table>\n<p>6545 rows × 15 columns</p>\n</div>"
     },
     "execution_count": 288,
     "metadata": {},
     "output_type": "execute_result"
    }
   ],
   "source": [
    "np.isfinite(X_train2)"
   ]
  },
  {
   "cell_type": "code",
   "execution_count": 289,
   "metadata": {},
   "outputs": [
    {
     "data": {
      "text/plain": "    Size  Number of rooms  Floor number  Room mates  Furniture  Elevator  \\\n0  127.0              4.0           5.0           1          1         1   \n1   65.0              3.5           1.0           1          1         1   \n2   70.0              3.0           1.0           1          1         1   \n3   70.0              3.0           1.0           1          1         1   \n4   80.0              3.5           3.0           1          1         1   \n\n   Air conditioner  Parking  Balcony  Bars  Shelter  Storeroom  Renovated  \\\n0                1        1      1.0     1        1          1          1   \n1                1        0      0.0     1        1          1          1   \n2                1        1      0.0     1        1          1          1   \n3                1        0      0.0     1        1          1          1   \n4                1        1      0.0     1        1          1          1   \n\n   Boiler  Pets allowed  \n0       1             1  \n1       1             1  \n2       1             1  \n3       1             1  \n4       1             1  ",
      "text/html": "<div>\n<style scoped>\n    .dataframe tbody tr th:only-of-type {\n        vertical-align: middle;\n    }\n\n    .dataframe tbody tr th {\n        vertical-align: top;\n    }\n\n    .dataframe thead th {\n        text-align: right;\n    }\n</style>\n<table border=\"1\" class=\"dataframe\">\n  <thead>\n    <tr style=\"text-align: right;\">\n      <th></th>\n      <th>Size</th>\n      <th>Number of rooms</th>\n      <th>Floor number</th>\n      <th>Room mates</th>\n      <th>Furniture</th>\n      <th>Elevator</th>\n      <th>Air conditioner</th>\n      <th>Parking</th>\n      <th>Balcony</th>\n      <th>Bars</th>\n      <th>Shelter</th>\n      <th>Storeroom</th>\n      <th>Renovated</th>\n      <th>Boiler</th>\n      <th>Pets allowed</th>\n    </tr>\n  </thead>\n  <tbody>\n    <tr>\n      <th>0</th>\n      <td>127.0</td>\n      <td>4.0</td>\n      <td>5.0</td>\n      <td>1</td>\n      <td>1</td>\n      <td>1</td>\n      <td>1</td>\n      <td>1</td>\n      <td>1.0</td>\n      <td>1</td>\n      <td>1</td>\n      <td>1</td>\n      <td>1</td>\n      <td>1</td>\n      <td>1</td>\n    </tr>\n    <tr>\n      <th>1</th>\n      <td>65.0</td>\n      <td>3.5</td>\n      <td>1.0</td>\n      <td>1</td>\n      <td>1</td>\n      <td>1</td>\n      <td>1</td>\n      <td>0</td>\n      <td>0.0</td>\n      <td>1</td>\n      <td>1</td>\n      <td>1</td>\n      <td>1</td>\n      <td>1</td>\n      <td>1</td>\n    </tr>\n    <tr>\n      <th>2</th>\n      <td>70.0</td>\n      <td>3.0</td>\n      <td>1.0</td>\n      <td>1</td>\n      <td>1</td>\n      <td>1</td>\n      <td>1</td>\n      <td>1</td>\n      <td>0.0</td>\n      <td>1</td>\n      <td>1</td>\n      <td>1</td>\n      <td>1</td>\n      <td>1</td>\n      <td>1</td>\n    </tr>\n    <tr>\n      <th>3</th>\n      <td>70.0</td>\n      <td>3.0</td>\n      <td>1.0</td>\n      <td>1</td>\n      <td>1</td>\n      <td>1</td>\n      <td>1</td>\n      <td>0</td>\n      <td>0.0</td>\n      <td>1</td>\n      <td>1</td>\n      <td>1</td>\n      <td>1</td>\n      <td>1</td>\n      <td>1</td>\n    </tr>\n    <tr>\n      <th>4</th>\n      <td>80.0</td>\n      <td>3.5</td>\n      <td>3.0</td>\n      <td>1</td>\n      <td>1</td>\n      <td>1</td>\n      <td>1</td>\n      <td>1</td>\n      <td>0.0</td>\n      <td>1</td>\n      <td>1</td>\n      <td>1</td>\n      <td>1</td>\n      <td>1</td>\n      <td>1</td>\n    </tr>\n  </tbody>\n</table>\n</div>"
     },
     "execution_count": 289,
     "metadata": {},
     "output_type": "execute_result"
    }
   ],
   "source": [
    "X_train2.head()"
   ]
  },
  {
   "cell_type": "code",
   "execution_count": 290,
   "metadata": {},
   "outputs": [],
   "source": [
    "X_train2.replace([np.inf, -np.inf], np.nan, inplace=True)\n",
    "\n",
    "X_train2 = np.nan_to_num(X_train2)"
   ]
  },
  {
   "cell_type": "code",
   "execution_count": 291,
   "metadata": {},
   "outputs": [
    {
     "name": "stdout",
     "output_type": "stream",
     "text": [
      "False\n",
      "True\n"
     ]
    }
   ],
   "source": [
    "print(np.any(np.isnan(X_train2)))\n",
    "print(np.any(np.isfinite(X_train2)))"
   ]
  },
  {
   "cell_type": "code",
   "execution_count": 292,
   "metadata": {},
   "outputs": [],
   "source": [
    "def train_classifier(X_train, y_train):\n",
    "    return LinearRegression().fit(X_train, y_train)"
   ]
  },
  {
   "cell_type": "code",
   "execution_count": 293,
   "metadata": {},
   "outputs": [
    {
     "name": "stdout",
     "output_type": "stream",
     "text": [
      "<class 'sklearn.linear_model._base.LinearRegression'>\n"
     ]
    }
   ],
   "source": [
    "classification_model = train_classifier(X_train2, y_train)\n",
    "classification_minmax_model = train_classifier(X_train_minmax_scaled, y_train)\n",
    "classification_standard_model = train_classifier(X_train_standard_scaled, y_train)\n",
    "print(type(classification_model))"
   ]
  },
  {
   "cell_type": "markdown",
   "metadata": {},
   "source": [
    "#### Predict"
   ]
  },
  {
   "cell_type": "code",
   "execution_count": 294,
   "metadata": {},
   "outputs": [],
   "source": [
    "from sklearn.metrics import accuracy_score\n",
    "from sklearn.metrics import plot_confusion_matrix\n",
    "from sklearn.metrics import classification_report"
   ]
  },
  {
   "cell_type": "code",
   "execution_count": 295,
   "metadata": {},
   "outputs": [],
   "source": [
    "def predict(classifier, X_test, y_test):\n",
    "    return pd.DataFrame({\"Actual\":y_test,\"Predicted\":classifier.predict(X_test)})\n",
    "    "
   ]
  },
  {
   "cell_type": "code",
   "execution_count": 296,
   "metadata": {},
   "outputs": [
    {
     "name": "stdout",
     "output_type": "stream",
     "text": [
      "       Actual    Predicted\n",
      "8075   1900.0  3065.342108\n",
      "8076   2500.0  3072.353705\n",
      "8077   2500.0  3072.353705\n",
      "8078   2500.0  3072.353705\n",
      "8079   2500.0  3072.353705\n",
      "...       ...          ...\n",
      "10735  3400.0  4128.405600\n",
      "10736  4000.0  4545.619004\n",
      "10740  5700.0  4964.202770\n",
      "10741  2990.0  2976.832329\n",
      "10742  7000.0  5476.489749\n",
      "\n",
      "[1637 rows x 2 columns]\n"
     ]
    },
    {
     "name": "stderr",
     "output_type": "stream",
     "text": [
      "C:\\Users\\sagib\\AppData\\Local\\Programs\\Python\\Python39\\lib\\site-packages\\sklearn\\base.py:443: UserWarning: X has feature names, but LinearRegression was fitted without feature names\n",
      "  warnings.warn(\n"
     ]
    }
   ],
   "source": [
    "df_res = predict(classification_model, X_test2, y_test)\n",
    "df_minmax_res = predict(classification_minmax_model, X_test_minmax_scaled, y_test)\n",
    "df_standard_res = predict(classification_standard_model, X_test_standard_scaled, y_test)\n",
    "print(df_res)"
   ]
  },
  {
   "cell_type": "code",
   "execution_count": 297,
   "metadata": {},
   "outputs": [],
   "source": [
    "from sklearn import linear_model, metrics, preprocessing\n",
    "from sklearn.metrics import r2_score, f1_score"
   ]
  },
  {
   "cell_type": "code",
   "execution_count": 298,
   "metadata": {},
   "outputs": [],
   "source": [
    "def train_model(X_train, y_train):\n",
    "    model=LinearRegression()\n",
    "    model.fit(X_train,y_train)\n",
    "    return model"
   ]
  },
  {
   "cell_type": "code",
   "execution_count": 299,
   "metadata": {},
   "outputs": [],
   "source": [
    "def predict_us(trained_model, X_test):\n",
    "    vals = trained_model.predict(X_test)\n",
    "    return vals"
   ]
  },
  {
   "cell_type": "code",
   "execution_count": 300,
   "metadata": {},
   "outputs": [],
   "source": [
    "def evaluate_performance(y_test,y_predicted):\n",
    "    value = metrics.r2_score(y_test,y_predicted)\n",
    "    return value"
   ]
  },
  {
   "cell_type": "code",
   "execution_count": 301,
   "metadata": {},
   "outputs": [
    {
     "name": "stderr",
     "output_type": "stream",
     "text": [
      "C:\\Users\\sagib\\AppData\\Local\\Programs\\Python\\Python39\\lib\\site-packages\\sklearn\\base.py:443: UserWarning: X has feature names, but LinearRegression was fitted without feature names\n",
      "  warnings.warn(\n"
     ]
    }
   ],
   "source": [
    "trained_model = train_model(X_train2, y_train)\n",
    "pred_vals = predict_us(trained_model, X_test2)\n",
    "y_pred= pd.Series(pred_vals,index=X_test2.index)\n",
    "eval_res = evaluate_performance(y_test, y_pred)"
   ]
  },
  {
   "cell_type": "code",
   "execution_count": 302,
   "metadata": {},
   "outputs": [
    {
     "name": "stdout",
     "output_type": "stream",
     "text": [
      "0.19522112297210292\n"
     ]
    }
   ],
   "source": [
    "print(eval_res)"
   ]
  },
  {
   "cell_type": "code",
   "execution_count": 303,
   "metadata": {},
   "outputs": [
    {
     "name": "stdout",
     "output_type": "stream",
     "text": [
      "[3065.34210837 3072.35370469 3072.35370469 ... 4964.20276973 2976.83232885\n",
      " 5476.48974933]\n"
     ]
    }
   ],
   "source": [
    "print(pred_vals)"
   ]
  },
  {
   "cell_type": "code",
   "execution_count": 304,
   "metadata": {},
   "outputs": [
    {
     "name": "stdout",
     "output_type": "stream",
     "text": [
      "0.195\n"
     ]
    }
   ],
   "source": [
    "print(np.round(eval_res,3))"
   ]
  },
  {
   "cell_type": "code",
   "execution_count": 304,
   "metadata": {},
   "outputs": [],
   "source": []
  }
 ],
 "metadata": {
  "interpreter": {
   "hash": "149d9d322101756c08e60260c844c5b0db4b92efb3fff858aa7e90c82cd2b80a"
  },
  "kernelspec": {
   "display_name": "Python 3",
   "language": "python",
   "name": "python3"
  },
  "language_info": {
   "codemirror_mode": {
    "name": "ipython",
    "version": 3
   },
   "file_extension": ".py",
   "mimetype": "text/x-python",
   "name": "python",
   "nbconvert_exporter": "python",
   "pygments_lexer": "ipython3",
   "version": "3.8.8"
  }
 },
 "nbformat": 4,
 "nbformat_minor": 2
}